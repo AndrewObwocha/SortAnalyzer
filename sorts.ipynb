{
 "cells": [
  {
   "cell_type": "code",
   "execution_count": null,
   "metadata": {},
   "outputs": [],
   "source": []
  },
  {
   "cell_type": "markdown",
   "metadata": {},
   "source": [
    "# Lab 8: Sorting\n",
    "### Created By: CMPUT 175 Team\n",
    "---\n",
    "\n",
    "Submitted by: `ANDREW OBWOCHA`<br>\n",
    "CCID: `aobwocha@ualberta.ca`\n",
    "\n",
    "Note: Make sure to update all function docstrings as needed."
   ]
  },
  {
   "cell_type": "code",
   "execution_count": 1,
   "metadata": {
    "id": "MwGYW9Kizq2A"
   },
   "outputs": [],
   "source": [
    "def bubble_sort(arr):\n",
    "    \"\"\"\n",
    "    Implementation of bubble sort algorithm\n",
    "    Time Complexity: O(n^2)\n",
    "    \"\"\"\n",
    "    maxSwaps = len(arr) - 1\n",
    "    index = 0\n",
    "    while index < maxSwaps:  # Worst case scenario: Iterate over each index\n",
    "        swapped = False\n",
    "        for swappingIndex in range(maxSwaps - index):  # arr[:index] sorted, unnecessary to re-iterate over it\n",
    "            if arr[swappingIndex + 1] < arr[swappingIndex]:\n",
    "                arr[swappingIndex], arr[swappingIndex + 1] = arr[swappingIndex + 1], arr[swappingIndex]\n",
    "                swapped = True\n",
    "        index += 1\n",
    "        \n",
    "        if not swapped:  # No swaps after full iteration, arr sorted\n",
    "            index = maxSwaps\n",
    "    return arr\n",
    "        "
   ]
  },
  {
   "cell_type": "code",
   "execution_count": 2,
   "metadata": {
    "id": "6KnUK2_l9OiG"
   },
   "outputs": [],
   "source": [
    "def insertion_sort(arr):\n",
    "    \"\"\"\n",
    "    Implementation of insertion sort algorithm\n",
    "    Time Complexity: O(n^2)\n",
    "    \"\"\"\n",
    "    for index in range(1, len(arr)):\n",
    "        currentValue = arr[index]  # Placeholder\n",
    "        position = index\n",
    "\n",
    "        while position > 0 and arr[position - 1] > currentValue:  # Reverse iteration until element <= value \n",
    "            arr[position] = arr[position - 1]  # Moving each element one index along\n",
    "            position -= 1\n",
    "\n",
    "        arr[position] = currentValue  # Place insertion value at manipulated space\n",
    "    return arr\n",
    "            "
   ]
  },
  {
   "cell_type": "code",
   "execution_count": 3,
   "metadata": {
    "id": "fG87ql8P9R_g"
   },
   "outputs": [],
   "source": [
    "def merge_sort(arr):\n",
    "    \"\"\"\n",
    "    Implementation of merge sort algorithm\n",
    "    Time Complexity: O(n log n)\n",
    "    \"\"\"\n",
    "    arrLength = len(arr)\n",
    "    \n",
    "    if arrLength <= 1:  # Base case: Array of 1 element (trivially sorted)\n",
    "        return arr\n",
    "    \n",
    "    middle = arrLength // 2\n",
    "    \n",
    "    # Recursive breakdown of each halve\n",
    "    left = merge_sort(arr[:middle])\n",
    "    right = merge_sort(arr[middle:])\n",
    "\n",
    "    return merge(left, right)\n",
    "    \n",
    "def merge(left, right):\n",
    "    \"\"\"Helper function for merge sort\"\"\"\n",
    "    result = []\n",
    "    i, j = 0, 0\n",
    "    \n",
    "    while i < len(left) and j < len(right):  # Iterate until one list's end\n",
    "        \n",
    "        # Append smaller value from either list to result\n",
    "        if left[i] < right[j]:\n",
    "            result.append(left[i])\n",
    "            i += 1\n",
    "        else:\n",
    "            result.append(right[j])\n",
    "            j+= 1\n",
    "    \n",
    "    # Append remaining values from non-iterated secition of either list\n",
    "    result += left[i:]\n",
    "    result += right[j:]\n",
    "    \n",
    "    return result"
   ]
  },
  {
   "cell_type": "code",
   "execution_count": 4,
   "metadata": {
    "colab": {
     "base_uri": "https://localhost:8080/"
    },
    "id": "kZugzoAw9kCb",
    "outputId": "f7065a57-d699-4543-8b91-db46450a7974"
   },
   "outputs": [
    {
     "name": "stdout",
     "output_type": "stream",
     "text": [
      "Original array: [64, 34, 25, 12, 22, 11, 90]\n",
      "Bubble Sort: [11, 12, 22, 25, 34, 64, 90]\n",
      "Insertion Sort: [11, 12, 22, 25, 34, 64, 90]\n",
      "Merge Sort: [11, 12, 22, 25, 34, 64, 90]\n"
     ]
    }
   ],
   "source": [
    "# Test sorting algorithms with a small array\n",
    "test_arr = [64, 34, 25, 12, 22, 11, 90]\n",
    "print(\"Original array:\", test_arr)\n",
    "print(\"Bubble Sort:\", bubble_sort(test_arr.copy()))\n",
    "print(\"Insertion Sort:\", insertion_sort(test_arr.copy()))\n",
    "print(\"Merge Sort:\", merge_sort(test_arr.copy()))\n",
    "\n"
   ]
  },
  {
   "cell_type": "markdown",
   "metadata": {},
   "source": [
    "# Graphing the Sorting Times\n",
    "\n",
    "- The cell is designed to measure and visualize the time complexity of different sorting algorithms (bubble sort, insertion sort, and merge sort) for varying array sizes.\n",
    "- It uses predefined arrays (`FIXED_ARRAYS`) of different sizes to ensure consistency in testing.\n",
    "- The `measure_sorting_times` function calculates the time taken by each sorting algorithm to sort arrays of a given size. The results are cached in `timing_cache` to avoid redundant computations.\n",
    "- The `update_sorting_plot` function generates a plot of sorting times against array sizes. It uses `matplotlib` to create a line plot for each sorting algorithm.\n",
    "- Interactive widgets (`show_plot_checkbox` and `max_array_size_slider`) allow users to control whether the plot is displayed and the maximum array size to include in the plot.\n",
    "- The `interactive_plotting` widget dynamically updates the plot based on user inputs.\n",
    "\n",
    "### Note: Sorting algorithms may occasionally produce an outlier point due to system-level factors or random variations. This is normal, and rerunning the cell should resolve the issue.\n",
    "\n",
    "#### DO NOT MODIFY THE CELL BELOW!"
   ]
  },
  {
   "cell_type": "code",
   "execution_count": 5,
   "metadata": {
    "colab": {
     "base_uri": "https://localhost:8080/",
     "height": 626,
     "referenced_widgets": [
      "17d4c6f514994886a1679ce5e14a726e",
      "06c878d02f8c4350bb621a45715a12df",
      "3be9c527021541e286b7c59b11658682",
      "38323d2ead7d4a0d968f62903240bc1a",
      "112d066055e84258ae11a8b87bb415fb",
      "a7175ede530c4e83b55ab63183b4d350",
      "aef0888153f84a4c97ac31d07724af87",
      "c83d2e3ab6054a60bfbf4a7bfa9d8123"
     ]
    },
    "id": "QYTH5yjO-Oe0",
    "outputId": "1b7caff5-894c-47da-a8f7-480d7c4a413a"
   },
   "outputs": [
    {
     "data": {
      "application/vnd.jupyter.widget-view+json": {
       "model_id": "11c9853fe57b4deca06957381621e35a",
       "version_major": 2,
       "version_minor": 0
      },
      "text/plain": [
       "Checkbox(value=True, description='Show Plot')"
      ]
     },
     "metadata": {},
     "output_type": "display_data"
    },
    {
     "data": {
      "application/vnd.jupyter.widget-view+json": {
       "model_id": "eb948a51c1d047c68125b9a3db4af597",
       "version_major": 2,
       "version_minor": 0
      },
      "text/plain": [
       "IntSlider(value=2000, description='Max Array Size', max=3500, min=500, step=250)"
      ]
     },
     "metadata": {},
     "output_type": "display_data"
    },
    {
     "data": {
      "application/vnd.jupyter.widget-view+json": {
       "model_id": "bddea3d49dce45dca35b6ec45675ae62",
       "version_major": 2,
       "version_minor": 0
      },
      "text/plain": [
       "Output()"
      ]
     },
     "metadata": {},
     "output_type": "display_data"
    }
   ],
   "source": [
    "\n",
    "import time\n",
    "import random\n",
    "import matplotlib.pyplot as plt\n",
    "from IPython.display import clear_output\n",
    "import ipywidgets as widgets\n",
    "\n",
    "random.seed(20)\n",
    "\n",
    "# Predefined fixed arrays for specific sizes\n",
    "FIXED_ARRAYS = {}\n",
    "\n",
    "sizes = [500, 750, 1000, 1250, 1500, 2000, 2250, 2500, 3000, 3250, 3500]\n",
    "\n",
    "arr = []\n",
    "for i in range(len(sizes)):\n",
    "    add = []\n",
    "    if i > 0:\n",
    "        for x in range(sizes[i-1]+1, sizes[i]+1):\n",
    "            add.append(x)\n",
    "        arr = arr + add\n",
    "        random.shuffle(arr)\n",
    "        FIXED_ARRAYS[sizes[i]] = arr.copy()\n",
    "    else:\n",
    "        for x in range(500):\n",
    "            add.append(x)\n",
    "        arr = arr + add\n",
    "        FIXED_ARRAYS[sizes[i]] = arr.copy()\n",
    "\n",
    "# List of sorting algorithms\n",
    "sorts = [\n",
    "    {\"name\": \"Bubble Sort\", \"func\": bubble_sort},\n",
    "    {\"name\": \"Insertion Sort\", \"func\": insertion_sort},\n",
    "    {\"name\": \"Merge Sort\", \"func\": merge_sort},\n",
    "]\n",
    "\n",
    "# Cache for timing results\n",
    "timing_cache = {}\n",
    "\n",
    "# Measure sorting times\n",
    "def measure_sorting_times(size):\n",
    "    if size not in timing_cache:\n",
    "        times = {}\n",
    "        for sort in sorts:\n",
    "            arr = FIXED_ARRAYS[size].copy()\n",
    "            start_time = time.perf_counter()\n",
    "            sort[\"func\"](arr)\n",
    "            end_time = time.perf_counter()\n",
    "            times[sort[\"name\"]] = end_time - start_time\n",
    "        timing_cache[size] = times\n",
    "    return timing_cache[size]\n",
    "\n",
    "# Update and plot sorting times\n",
    "def update_sorting_plot(show_plot, max_array_size):\n",
    "    if show_plot:\n",
    "        clear_output(wait=True)\n",
    "        valid_sizes = [size for size in FIXED_ARRAYS.keys() if size <= max_array_size]\n",
    "\n",
    "        plot_data = {sort[\"name\"]: [] for sort in sorts}\n",
    "        for size in valid_sizes:\n",
    "            times = measure_sorting_times(size)\n",
    "            for sort in sorts:\n",
    "                plot_data[sort[\"name\"]].append(times[sort[\"name\"]])\n",
    "\n",
    "        plt.figure(figsize=(10, 6))\n",
    "        for sort in sorts:\n",
    "            plt.plot(valid_sizes, plot_data[sort[\"name\"]], marker='', label=sort[\"name\"])\n",
    "\n",
    "        plt.title('Sorting Algorithm Time Complexity')\n",
    "        plt.xlabel('Array Size')\n",
    "        plt.ylabel('Time (seconds)')\n",
    "        plt.legend()\n",
    "        plt.grid(True)\n",
    "        plt.show()\n",
    "    else:\n",
    "        clear_output(wait=True)\n",
    "\n",
    "# Interactive widgets\n",
    "show_plot_checkbox = widgets.Checkbox(value=True, description=\"Show Plot\")\n",
    "max_array_size_slider = widgets.IntSlider(\n",
    "    value=2000,\n",
    "    min=500,\n",
    "    max=3500,\n",
    "    step=250,\n",
    "    description=\"Max Array Size\"\n",
    ")\n",
    "\n",
    "interactive_plotting = widgets.interactive_output(\n",
    "    update_sorting_plot,\n",
    "    {\"show_plot\": show_plot_checkbox, \"max_array_size\": max_array_size_slider}\n",
    ")\n",
    "\n",
    "# Display widgets and interactive plot\n",
    "display(show_plot_checkbox, max_array_size_slider, interactive_plotting)\n"
   ]
  },
  {
   "cell_type": "markdown",
   "metadata": {
    "id": "8OfralU-9Jec"
   },
   "source": []
  }
 ],
 "metadata": {
  "colab": {
   "gpuType": "T4",
   "provenance": []
  },
  "kernelspec": {
   "display_name": "Python 3 (ipykernel)",
   "language": "python",
   "name": "python3"
  },
  "language_info": {
   "codemirror_mode": {
    "name": "ipython",
    "version": 3
   },
   "file_extension": ".py",
   "mimetype": "text/x-python",
   "name": "python",
   "nbconvert_exporter": "python",
   "pygments_lexer": "ipython3",
   "version": "3.13.2"
  },
  "widgets": {
   "application/vnd.jupyter.widget-state+json": {
    "06c878d02f8c4350bb621a45715a12df": {
     "model_module": "@jupyter-widgets/base",
     "model_module_version": "1.2.0",
     "model_name": "LayoutModel",
     "state": {
      "_model_module": "@jupyter-widgets/base",
      "_model_module_version": "1.2.0",
      "_model_name": "LayoutModel",
      "_view_count": null,
      "_view_module": "@jupyter-widgets/base",
      "_view_module_version": "1.2.0",
      "_view_name": "LayoutView",
      "align_content": null,
      "align_items": null,
      "align_self": null,
      "border": null,
      "bottom": null,
      "display": null,
      "flex": null,
      "flex_flow": null,
      "grid_area": null,
      "grid_auto_columns": null,
      "grid_auto_flow": null,
      "grid_auto_rows": null,
      "grid_column": null,
      "grid_gap": null,
      "grid_row": null,
      "grid_template_areas": null,
      "grid_template_columns": null,
      "grid_template_rows": null,
      "height": null,
      "justify_content": null,
      "justify_items": null,
      "left": null,
      "margin": null,
      "max_height": null,
      "max_width": null,
      "min_height": null,
      "min_width": null,
      "object_fit": null,
      "object_position": null,
      "order": null,
      "overflow": null,
      "overflow_x": null,
      "overflow_y": null,
      "padding": null,
      "right": null,
      "top": null,
      "visibility": null,
      "width": null
     }
    },
    "112d066055e84258ae11a8b87bb415fb": {
     "model_module": "@jupyter-widgets/base",
     "model_module_version": "1.2.0",
     "model_name": "LayoutModel",
     "state": {
      "_model_module": "@jupyter-widgets/base",
      "_model_module_version": "1.2.0",
      "_model_name": "LayoutModel",
      "_view_count": null,
      "_view_module": "@jupyter-widgets/base",
      "_view_module_version": "1.2.0",
      "_view_name": "LayoutView",
      "align_content": null,
      "align_items": null,
      "align_self": null,
      "border": null,
      "bottom": null,
      "display": null,
      "flex": null,
      "flex_flow": null,
      "grid_area": null,
      "grid_auto_columns": null,
      "grid_auto_flow": null,
      "grid_auto_rows": null,
      "grid_column": null,
      "grid_gap": null,
      "grid_row": null,
      "grid_template_areas": null,
      "grid_template_columns": null,
      "grid_template_rows": null,
      "height": null,
      "justify_content": null,
      "justify_items": null,
      "left": null,
      "margin": null,
      "max_height": null,
      "max_width": null,
      "min_height": null,
      "min_width": null,
      "object_fit": null,
      "object_position": null,
      "order": null,
      "overflow": null,
      "overflow_x": null,
      "overflow_y": null,
      "padding": null,
      "right": null,
      "top": null,
      "visibility": null,
      "width": null
     }
    },
    "17d4c6f514994886a1679ce5e14a726e": {
     "model_module": "@jupyter-widgets/controls",
     "model_module_version": "1.5.0",
     "model_name": "CheckboxModel",
     "state": {
      "_dom_classes": [],
      "_model_module": "@jupyter-widgets/controls",
      "_model_module_version": "1.5.0",
      "_model_name": "CheckboxModel",
      "_view_count": null,
      "_view_module": "@jupyter-widgets/controls",
      "_view_module_version": "1.5.0",
      "_view_name": "CheckboxView",
      "description": "Show Plot",
      "description_tooltip": null,
      "disabled": false,
      "indent": true,
      "layout": "IPY_MODEL_06c878d02f8c4350bb621a45715a12df",
      "style": "IPY_MODEL_3be9c527021541e286b7c59b11658682",
      "value": true
     }
    },
    "38323d2ead7d4a0d968f62903240bc1a": {
     "model_module": "@jupyter-widgets/controls",
     "model_module_version": "1.5.0",
     "model_name": "IntSliderModel",
     "state": {
      "_dom_classes": [],
      "_model_module": "@jupyter-widgets/controls",
      "_model_module_version": "1.5.0",
      "_model_name": "IntSliderModel",
      "_view_count": null,
      "_view_module": "@jupyter-widgets/controls",
      "_view_module_version": "1.5.0",
      "_view_name": "IntSliderView",
      "continuous_update": true,
      "description": "Max Array Size",
      "description_tooltip": null,
      "disabled": false,
      "layout": "IPY_MODEL_112d066055e84258ae11a8b87bb415fb",
      "max": 3500,
      "min": 500,
      "orientation": "horizontal",
      "readout": true,
      "readout_format": "d",
      "step": 250,
      "style": "IPY_MODEL_a7175ede530c4e83b55ab63183b4d350",
      "value": 2000
     }
    },
    "3be9c527021541e286b7c59b11658682": {
     "model_module": "@jupyter-widgets/controls",
     "model_module_version": "1.5.0",
     "model_name": "DescriptionStyleModel",
     "state": {
      "_model_module": "@jupyter-widgets/controls",
      "_model_module_version": "1.5.0",
      "_model_name": "DescriptionStyleModel",
      "_view_count": null,
      "_view_module": "@jupyter-widgets/base",
      "_view_module_version": "1.2.0",
      "_view_name": "StyleView",
      "description_width": ""
     }
    },
    "a7175ede530c4e83b55ab63183b4d350": {
     "model_module": "@jupyter-widgets/controls",
     "model_module_version": "1.5.0",
     "model_name": "SliderStyleModel",
     "state": {
      "_model_module": "@jupyter-widgets/controls",
      "_model_module_version": "1.5.0",
      "_model_name": "SliderStyleModel",
      "_view_count": null,
      "_view_module": "@jupyter-widgets/base",
      "_view_module_version": "1.2.0",
      "_view_name": "StyleView",
      "description_width": "",
      "handle_color": null
     }
    },
    "aef0888153f84a4c97ac31d07724af87": {
     "model_module": "@jupyter-widgets/output",
     "model_module_version": "1.0.0",
     "model_name": "OutputModel",
     "state": {
      "_dom_classes": [],
      "_model_module": "@jupyter-widgets/output",
      "_model_module_version": "1.0.0",
      "_model_name": "OutputModel",
      "_view_count": null,
      "_view_module": "@jupyter-widgets/output",
      "_view_module_version": "1.0.0",
      "_view_name": "OutputView",
      "layout": "IPY_MODEL_c83d2e3ab6054a60bfbf4a7bfa9d8123",
      "msg_id": "",
      "outputs": [
       {
        "data": {
         "image/png": "iVBORw0KGgoAAAANSUhEUgAAA1cAAAIjCAYAAADvBuGTAAAAOXRFWHRTb2Z0d2FyZQBNYXRwbG90bGliIHZlcnNpb24zLjguMCwgaHR0cHM6Ly9tYXRwbG90bGliLm9yZy81sbWrAAAACXBIWXMAAA9hAAAPYQGoP6dpAACypUlEQVR4nOzdd3QU5dvG8e/upjdCQiAQAqFDgBCkSUelKSIgIGChqPhaQCACAiqColgQURGx/AREFAQpKkgnolRFKdJ77y0kIXXn/WNlMSZAAgmTcn3OyTnuM7Oz9z7ZYK7cM89YDMMwEBERERERkVtiNbsAERERERGR/EDhSkREREREJBsoXImIiIiIiGQDhSsREREREZFsoHAlIiIiIiKSDRSuREREREREsoHClYiIiIiISDZQuBIREREREckGClciIiIiIiLZQOFKROQ2mDx5MhaLhQMHDphdynUdOHAAi8XC5MmTTavBYrEwYsSITO/bp0+fnC3oFuWGOc1vbsfPU1hYGD179syx44tI/qRwJSL53pYtW+jUqROlS5fGw8ODkJAQWrRowUcffZTtr/Xmm28yd+7cbD9udhk8eDAWi4UuXbqYXUqmrV69mhEjRnDhwgWzS3EaMWIEFovlhl/NmjUzu9TrmjNnDvfeey9FihTBzc2NEiVK8NBDD7F8+XKzS8t1tm3bxogRI3L9H0hExFwuZhcgIpKTVq9ezV133UWpUqXo3bs3wcHBHD58mLVr1/LBBx/Qt2/fbH29N998k06dOtG+ffs044899hhdu3bF3d09W18vKwzD4NtvvyUsLIwff/yRS5cu4evra1o913L58mVcXK7+72n16tWMHDmSnj174u/vb15h//Lggw9Svnx55+PY2FieeeYZOnTowIMPPugcL1asGKVLl+by5cu4urqaUWqGDMPg8ccfZ/LkydSsWZOoqCiCg4M5fvw4c+bM4Z577mHVqlU0aNDA7FJNs3PnTqzWq3+D3rZtGyNHjqRZs2aEhYWZV5iI5GoKVyKSr73xxhsUKlSI33//Pd0v5qdOncqW1zAMg4SEBDw9Pa+5j81mw2azZcvr3azo6GiOHDnC8uXLadWqFbNnz6ZHjx6m1nSF3W4nKSkJDw8PPDw8zC7nhiIiIoiIiHA+PnPmDM888wwRERE8+uij6fbPbe/pvffeY/LkyfTv35+xY8disVic21566SWmTp2aJuAWRGb+IURE8i6dFigi+drevXupWrVqhh2PokWLpnmckpLC66+/Trly5XB3dycsLIxhw4aRmJiYZr+wsDDuv/9+Fi1aRO3atfH09OTTTz/FYrEQFxfHlClTnKeFXblmI6NrRK4c57fffqNu3bp4eHhQtmxZvvrqq3S1bt68maZNm+Lp6UnJkiUZNWoUkyZNytJ1J9OmTSM8PJy77rqL5s2bM23atEw9D2DmzJmEh4fj4eFBtWrVmDNnDj179kz3F/y4uDheeOEFQkNDcXd3p1KlSowZMwbDMNLsd+VaqWnTplG1alXc3d1ZuHChc9uVa65GjBjBoEGDAChTpoxzXv/7nufOnUu1atVwd3enatWqzmNdceU0vl27dvHoo49SqFAhgoKCeOWVVzAMg8OHD9OuXTv8/PwIDg7mvffey/Tc3EhG11z17NkTHx8fDh06xP3334+Pjw8hISF8/PHHgONU1rvvvhtvb29Kly7NN998k+64Fy5coH///s65Ll++PG+//TZ2u/269Vy+fJnRo0dTuXJlxowZkyZYXfHYY49Rt25d5+N9+/bRuXNnAgIC8PLy4s4772T+/PlpnhMdHY3FYuG7775j5MiRhISE4OvrS6dOnbh48SKJiYn079+fokWL4uPjQ69evdL9bP37c1GpUiU8PDyoVasWK1euvOE8A/z88880btwYb29vfH19adOmDVu3bnVuX758OVarleHDh6d53jfffIPFYuGTTz5xjv37mqvJkyfTuXNnAO666y7n5zA6OpoePXpQpEgRkpOT09XTsmVLKlWqlKnaRSSfMERE8rGWLVsavr6+xpYtW264b48ePQzA6NSpk/Hxxx8b3bt3NwCjffv2afYrXbq0Ub58eaNw4cLGkCFDjIkTJxorVqwwpk6dari7uxuNGzc2pk6dakydOtVYvXq1YRiGMWnSJAMw9u/fn+Y4lSpVMooVK2YMGzbMGD9+vHHHHXcYFovF+Pvvv537HTlyxAgICDACAwONkSNHGmPGjDEqV65s1KhRI90xryUhIcHw9/c3Xn/9dcMwDOOrr74ybDabcfz48TT77d+/3wCMSZMmOcd++uknw2KxGBEREcbYsWONV155xShcuLBRrVo1o3Tp0s797Ha7cffddxsWi8V48sknjfHjxxtt27Y1AKN///5pXgcwqlSpYgQFBRkjR440Pv74Y+Ovv/5ybnv11VcNwzCMTZs2Gd26dTMA4/3333fOa2xsrHPfGjVqGMWLFzdef/11Y9y4cUbZsmUNLy8v48yZM87Xe/XVVw3AiIyMNLp162ZMmDDBaNOmjQEYY8eONSpVqmQ888wzxoQJE4yGDRsagPHLL7/ccF6vOH36dJq6bzSnPXr0MDw8PIzw8HDj6aefNj7++GOjQYMGzv1KlChhDBo0yPjoo4+MqlWrGjabzdi3b5/z+XFxcUZERIQRGBhoDBs2zJg4caLRvXt3w2KxGP369bturYsXLzYA47XXXsvUeztx4oRRrFgxw9fX13jppZeMsWPHGjVq1DCsVqsxe/Zs534rVqxwznH9+vWNDz/80Hj++ecNi8VidO3a1Xj44YeNe++91/j444+Nxx57zACMkSNHpnktwKhWrZpRpEgR47XXXjPefvtto3Tp0oanp2ean+GMfp6++uorw2KxGK1btzY++ugj4+233zbCwsIMf3//NPs999xzhouLi7FhwwbDMAzj2LFjRkBAgNG8eXPDbrc79ytdurTRo0cPwzAMY+/evcbzzz9vAMawYcOcn8MTJ04YS5YsMQDjxx9/TPNejh8/bthstkzPs4jkDwpXIpKvLV682LDZbIbNZjPq169vDB482Fi0aJGRlJSUZr+NGzcagPHkk0+mGR84cKABGMuXL3eOlS5d2gCMhQsXpns9b29v5y9k/3atcAUYK1eudI6dOnXKcHd3N1544QXnWN++fQ2LxeIMH4ZhGGfPnjUCAgIyHa5mzZplAMbu3bsNwzCMmJgYw8PDw3j//ffT7JdREKhevbpRsmRJ49KlS86x6OhoA0gTrubOnWsAxqhRo9Ics1OnTobFYjH27NnjHAMMq9VqbN26NV2t/w0p77777jXfJ2C4ubmlOfamTZsMwPjoo4+cY1fC1VNPPeUcS0lJMUqWLGlYLBbjrbfeco6fP3/e8PT0zPD7eC03E64A480330z3uhaLxZg+fbpzfMeOHemO/frrrxve3t7Grl270rzWkCFDDJvNZhw6dOiatX7wwQcGYMyZMydT761///4GYPz666/OsUuXLhllypQxwsLCjNTUVMMwroaratWqpfn56tatm2GxWIx77703zXHr16+f5vNjGI7vJ2D88ccfzrGDBw8aHh4eRocOHZxj//15unTpkuHv72/07t07zfFOnDhhFCpUKM14XFycUb58eaNq1apGQkKC0aZNG8PPz884ePBgmuf+O1wZhmHMnDnTAIwVK1ak2S81NdUoWbKk0aVLlzTjY8eONSwWS5pQLCL5n04LFJF8rUWLFqxZs4YHHniATZs28c4779CqVStCQkL44YcfnPstWLAAgKioqDTPf+GFFwDSnQJVpkwZWrVqdcv1hYeH07hxY+fjoKAgKlWqxL59+5xjCxcupH79+kRGRjrHAgICeOSRRzL9OtOmTaN27drORRiunDJ1o1MDjx07xpYtW+jevTs+Pj7O8aZNm1K9evU0+y5YsACbzcbzzz+fZvyFF17AMAx+/vnnNONNmzYlPDw80+/hWpo3b065cuWcjyMiIvDz80szh1c8+eSTzv+22WzUrl0bwzB44oknnOP+/v7pvgc55d/1XHldb29vHnroIed4pUqV8Pf3T1PPzJkzady4MYULF+bMmTPOr+bNm5Oamnrd0+hiYmIAMr2YyYIFC6hbty6NGjVyjvn4+PDUU09x4MABtm3blmb/7t27p1m8o169es4FNP6tXr16HD58mJSUlDTj9evXp1atWs7HpUqVol27dixatIjU1NQMa1yyZAkXLlygW7duaebDZrNRr149VqxY4dzXy8uLyZMns337dpo0acL8+fN5//33KVWqVKbm47+sViuPPPIIP/zwA5cuXXKOT5s2jQYNGlCmTJmbOq6I5E0KVyKS79WpU4fZs2dz/vx51q9fz9ChQ7l06RKdOnVy/mJ48OBBrFZrmhXgAIKDg/H39+fgwYNpxrPrF6aMfqErXLgw58+fdz4+ePBgurqADMcycuHCBRYsWEDTpk3Zs2eP86thw4b88ccf7Nq165rPvfK+M/P6Bw8epESJEul+aa9SpUqaY11xO+fwWvsWKlQIDw8PihQpkm48o+dnJw8PD4KCgtK9bsmSJdNdB/Xfenbv3s3ChQsJCgpK89W8eXPg+ou1+Pn5AaQJAtdz8ODBDK8butb3NaM5BggNDU03brfbuXjxYprxChUqpHutihUrEh8fz+nTpzOscffu3QDcfffd6eZk8eLF6eajYcOGPPPMM6xfv55WrVqlC35Z1b17dy5fvsycOXMAx0qDGzZs4LHHHrul44pI3lOwlwISkQLFzc2NOnXqUKdOHSpWrEivXr2YOXMmr776qnOfjC7uz8j1VgbMimutIGj8ZwGIWzFz5kwSExN57733MlyoYdq0aYwcOTLbXi+zzJjDjPa9Hd+DjFzrdTNTj91up0WLFgwePDjDfStWrHjN161cuTLgWDTjv7cMyA638r5u1pVFPKZOnUpwcHC67f9d+TAxMZHo6GjAsehNfHw8Xl5eN/364eHh1KpVi6+//pru3bvz9ddf4+bmlqYDKSIFg8KViBRItWvXBuD48eMAlC5dGrvdzu7du51/kQc4efIkFy5coHTp0pk6bmbDWVaULl2aPXv2pBvPaCwj06ZNo1q1amlC5BWffvop33zzzTXD1ZX3nZnXL126NEuXLk13/6wdO3akOVZW5cSc5nXlypUjNjbW2anKikaNGlG4cGG+/fZbhg0bdsNbBJQuXZqdO3emG7/V7+u1XOlC/duuXbvw8vJK1+m74sppoUWLFs3UnLz66qts376dMWPG8OKLLzJkyBA+/PDD6z7nRp/D7t27ExUVxfHjx/nmm29o06YNhQsXvmEtIpK/6LRAEcnXVqxYkeFfxq9cY3XldKf77rsPgHHjxqXZb+zYsQC0adMmU6/n7e3NhQsXbrLajLVq1Yo1a9awceNG59i5c+cytZT64cOHWblyJQ899BCdOnVK99WrVy/27NnDunXrMnx+iRIlqFatGl999RWxsbHO8V9++YUtW7ak2fe+++4jNTWV8ePHpxl///33sVgs3HvvvVl411d5e3sDZPu85mUPPfQQa9asYdGiRem2XbhwId11TP/m5eXFiy++yPbt23nxxRcz/Pn4+uuvWb9+PeD4vq5fv541a9Y4t8fFxfHZZ58RFhaWLdfN/duaNWv4888/nY8PHz7MvHnzaNmy5TWDYKtWrfDz8+PNN9/McEn0f59OuG7dOsaMGUP//v154YUXGDRoEOPHj+eXX365bl03+hx269YNi8VCv3792LdvX4b3OxOR/E+dKxHJ1/r27Ut8fDwdOnSgcuXKJCUlsXr1ambMmEFYWBi9evUCoEaNGvTo0YPPPvuMCxcu0LRpU9avX8+UKVNo3749d911V6Zer1atWixdupSxY8dSokQJypQpQ7169W7pPQwePJivv/6aFi1a0LdvX7y9vfniiy8oVaoU586du+5f1L/55hsMw+CBBx7IcPt9992Hi4sL06ZNu2adb775Ju3ataNhw4b06tWL8+fPM378eKpVq5YmcLVt25a77rqLl156iQMHDlCjRg0WL17MvHnz6N+/f5pFJ7LiyuIGL730El27dsXV1ZW2bds6f9ktiAYNGsQPP/zA/fffT8+ePalVqxZxcXFs2bKFWbNmceDAgXTXkf33+Vu3buW9995jxYoVdOrUieDgYE6cOMHcuXNZv349q1evBmDIkCF8++233HvvvTz//PMEBAQwZcoU9u/fz/fff4/Vmr1/p61WrRqtWrXi+eefx93dnQkTJgBc99RVPz8/PvnkEx577DHuuOMOunbtSlBQEIcOHWL+/Pk0bNiQ8ePHk5CQQI8ePahQoQJvvPGG87g//vgjvXr1YsuWLdf8XEVGRmKz2Xj77be5ePEi7u7u3H333c775QUFBdG6dWtmzpyJv79/pv8gIyL5izpXIpKvjRkzhrvuuosFCxYQFRVFVFQU69ev59lnn2XdunVpbi78xRdfMHLkSH7//Xf69+/P8uXLGTp0KNOnT8/0640dO5ZatWrx8ssv061btzQ3Jb1ZoaGhrFixgipVqvDmm28ybtw4evTo4bwI38PD45rPnTZtGqVKlaJGjRoZbvf396dRo0bMmDHjmt2Otm3b8u2335KUlMSQIUOYPXs2kydPdt7k9Qqr1coPP/xA//79+emnn+jfvz/btm3j3XffdXYAb0adOnV4/fXX2bRpEz179qRbt27XXNigoPDy8uKXX35h0KBBREdH069fP9566y12797NyJEjnYtIXIvVauWrr75i1qxZFClShDFjxvDUU0/x0UcfUaZMGaKjo6lfvz4AxYoVY/Xq1bRo0YKPPvqIoUOH4ubmxo8//kiHDh2y/b01bdqUcePGMXXqVIYPH05AQAA///wzERER133eww8/zLJlywgJCeHdd9+lX79+TJ8+ncjISOcfUYYNG8aePXuYMmWK87Pr5ubGlClTOHz4sPOG1RkJDg5m4sSJnDp1iieeeIJu3bpluFIiODqL7u7utzINIpJHWYycvmJXRERyRP/+/fn000+JjY294XUzOSEyMpKgoCCWLFly219b8ieLxcJzzz2X7tTSvGLevHm0b9+elStXprnFgogUHOpciYjkAZcvX07z+OzZs0ydOpVGjRrleLBKTk5O19WKjo5m06ZNNGvWLEdfWyQv+fzzzylbtmyae4KJSMGia65ERPKA+vXr06xZM6pUqcLJkyf53//+R0xMDK+88kqOv/bRo0dp3rw5jz76KCVKlGDHjh1MnDiR4OBgnn766Rx/fZHcbvr06WzevJn58+fzwQcfaIVLkQJM4UpEJA+47777mDVrFp999hkWi4U77riD//3vfzRp0iTHX7tw4cLUqlWLL774gtOnT+Pt7U2bNm146623CAwMzPHXF8ntunXrho+PD0888QTPPvus2eWIiIl0zZWIiIiIiEg20DVXIiIiIiIi2UDhSkREREREJBvomqsM2O12jh07hq+vry5KFREREREpwAzD4NKlS5QoUeKGN05XuMrAsWPHCA0NNbsMERERERHJJQ4fPkzJkiWvu4/CVQZ8fX0BxwT6+fmZXE3elZyczOLFi2nZsiWurq5ml1NgaN7NoXk3h+bdHJp3c2jezaF5N0dumveYmBhCQ0OdGeF6FK4ycOVUQD8/P4WrW5CcnIyXlxd+fn6m/1AUJJp3c2jezaF5N4fm3Ryad3No3s2RG+c9M5cLaUELERERERGRbKBwJSIiIiIikg0UrkRERERERLKBrrm6SYZhkJKSQmpqqtml5FrJycm4uLiQkJCgeQJsNhsuLi5a3l9EREQkn1K4uglJSUkcP36c+Ph4s0vJ1QzDIDg4mMOHDytQ/MPLy4vixYvj5uZmdikiIiIiks0UrrLIbrezf/9+bDYbJUqUwM3NTcHhGux2O7Gxsfj4+Nzwhmv5nWEYJCUlcfr0afbv30+FChUK/JyIiIiI5DcKV1mUlJSE3W4nNDQULy8vs8vJ1ex2O0lJSXh4eChIAJ6enri6unLw4EHnvIiIiIhI/qHfeG+SwoLcDH1uRERERPIv/aYnIiIiIiKSDRSuREREREREsoHClWTJ5MmT8ff3v+4+I0aMIDIy8rr79OzZk/bt22dbXSIiIiIiZlO4KiB69uyJxWJxfgUGBtK6dWs2b95sdmk3bf/+/Tz88MOUKFECDw8PSpYsSbt27dixY8ctHzssLIxx48bdepEiIiIiUmAoXBUgrVu35vjx4xw/fpxly5bh4uLC/fffb3ZZNyU5OZkWLVpw8eJFZs+ezc6dO5kxYwbVq1fnwoULN33cpKSk7CtSRERERAoUhatsYBgG8Ukpt/3LMIws1enu7k5wcDDBwcFERkYyZMgQDh8+zOnTpwGIjo7GYrGkCScbN27EYrFw4MCBNMeaO3cuFSpUwMPDg1atWnH48OF0r/fpp59StWpVfHx8eOihh7h48eI1a7Pb7YwePZoyZcrg6elJjRo1mDVr1jX337p1K3v37mXChAnceeedlC5dmoYNGzJq1CjuvPNO535btmzh7rvvxtPTk8DAQJ566iliY2Od26+cnvjGG29QokQJKlWqRLNmzTh48CADBgxwdvpERERERG5E97nKBpeTUwkfvui2v+6211rh5XZz38LY2Fi+/vprypcvT2BgYJaeGx8fzxtvvMFXX32Fm5sbzz77LF27dmXVqlXOffbs2cOsWbOYPn06qamp9O7dm2effZZp06ZleMzRo0fz9ddfM3HiRCpUqMDKlSt59NFHCQoKomnTpun2DwoKwmq1MmvWLPr374/NZku3T1xcHK1ataJ+/fr8/vvvnDp1iieffJI+ffowefJk537Lli3Dz8+PJUuWAFC8eHFq1KjBU089Re/evbM0NyIiIiJScClcFSA//fQTPj4+gCN4FC9enJ9++inL915KTk5m/Pjx1KtXD4ApU6ZQpUoV1q9fT926dQFISEhg8uTJ+Pr64ufnx0cffUSbNm147733CA4OTnO8xMRE3nzzTZYuXUr9+vUBKFu2LL/99huffvpphuEqJCSEDz/8kMGDBzNy5Ehq167NXXfdxSOPPELZsmUB+Oabb0hISOCrr77C29sbgPHjx9O2bVvefvttihUrBoC3tzdffPEFbm5uzuPbbDZ8fX3T1SoiIiIici0KV9nA09XGttdamfK6WXHXXXfxySefAHD+/HkmTJjAvffey/r16yldunSmj+Pi4kKdOnWcjytXroy/vz/bt293hqtSpUoREhJCTEwMAPXr18dut7Nz5850gWXPnj3Ex8fTokWLNONJSUnUrFnzmnU899xzdO/enejoaNauXcvMmTN58803+eGHH2jRogXbt2+nRo0azmAF0LBhQ2cdV8JV9erV0wQrERERETHXT5uPc/CS2VVkncJVNrBYLDd9et7t5O3tTfny5Z2Pv/jiCwoVKsTnn3/OqFGjnB2sf1/LlZycnON1XbkGav78+YSEhKTZ5u7uft3n+vr60rZtW9q2bcuoUaNo1aoVo0aNShfUruff4UtEREREzHPxcjKvzvubuRuPEehuo3tCCgGurmaXlWla0KIAs1gsWK1WLl++DDiuYwI4fvy4c5+NGzeme15KSgp//PGH8/HOnTu5cOECVapUcY4dOnSIY8eOOR+vXbsWq9VKpUqV0h0vPDwcd3d3Dh06RPny5dN8hYaGZun9VK5cmbi4OACqVKnCpk2bnI8BVq1adc06/s3NzY3U1NRMv7aIiIiI3Jq1+85y3we/MnfjMawWqBNk4OGat+JK3qpWbkliYiInTpzgxIkTbN++nb59+xIbG0vbtm0BnGFmxIgR7N69m/nz5/Pee++lO46rqyt9+/Zl3bp1bNiwgZ49e3LnnXc6TwkE8PDwoGfPnmzZsoVff/2V559/noceeijDa5h8fX0ZOHAgAwYMYMqUKezdu5c///yTjz76iClTpmT4XjZu3Ei7du2YNWsW27ZtY8+ePfzvf//jyy+/pF27dgA88sgjeHh40KNHD/7++29WrFhB3759eeyxx5ynBF5LWFgYK1eu5OjRo5w5cybTcywiIiIiWZOUYufthTvo9vlajl64TKkAL6Y/WZd7Q+242vJWXMn957JJtlm4cCHFixcHHIGmcuXKzJw5k2bNmgGO0PTtt9/yzDPPEBERQZ06dRg1ahSdO3dOcxwvLy9efPFFHn74YY4ePUrjxo353//+l2af8uXL06FDB7p06cL58+e5//77mTBhwjVre/311wkKCmL06NHs27cPf39/7rjjDoYNG5bh/iVLliQsLIyRI0dy4MABLBaL8/GAAQOcdS5atIh+/fpRp04dvLy86NixI2PHjr3hXL322mv83//9H+XKlSMxMTHLy96LiIiIyI3tOXWJftM3svWY4zr9h2qXZHjbqrhbDY7/bXJxN8Fi6LfGdGJiYihUqBAXL17Ez88vzbaEhAT2799PmTJl8PDwMKnCvMFutxMTE4Ofn1+WVyTMr27H5yc5OZkFCxZw33334ZqHzlHO6zTv5tC8m0Pzbg7Nuzk07znDMAymrj3IG/O3k5hix9/LlbcerE7rao5GQG6a9+tlg/9S50pERERERG6b05cSGTxrEyt2ngagcYUijOlcg2J+eb9xoXAlIiIiIiK3xZJtJxny/WbOxiXh5mJl6L2V6VE/DKvVYnZp2ULhSkREREREclR8Ugqv/7Sdb9cfAqBysC8fdK1JpWBfkyvLXgpXIiIiIiKSYzYdvkD/GRvZf8Zxe5ynmpTlhZYVcXexmVxZ9lO4EhERERGRbJeSaueT6L2MW7abVLtBsJ8HYx+qQYPyRcwuLccoXImIiIiISLY6dDaeAd9tZMPB8wC0iSjOG+2r4e/lZnJlOUvhSkREREREsoVhGHz/51FG/LCV2MQUfNxdeK1dVTrUDMFiyR+LVlyPwpWIiIiIiNyyC/FJDJuzhQVbTgBQJ6wwYx+KJDTAy+TKbh+FKxERERERuSW/7T7DCzM3cjImERerhQEtKvJ003LY8skS65llNbsAkQMHDmCxWNi4caPZpYiIiIhIFiQkp/L6T9t49H/rOBmTSNki3sx+tgHP3VW+wAUrULgqMHr27En79u3NLiPDOkJDQzl+/DjVqlXL0deOj49n6NChlCtXDg8PD4KCgmjatCnz5s275WPnlvkVERERuV12nIih/cer+N9v+wF4pF4pfnq+EREl/c0tzEQ6LVBui9TU1GtexGiz2QgODs7xGp5++mnWrVvHRx99RHh4OGfPnmX16tWcPXv2po95vfclIiIikh/Z7QZfrtrPOwt3kpRqJ9DbjXc6RXBPlWJml2Y6da6yg2FAUtzt/zKMmy65WbNmPP/88wwePJiAgACCg4MZMWLEv96SwYgRIyhVqhTu7u6UKFGC559/3rk9MTGRgQMHEhISgre3N/Xq1SM6Otq5ffLkyQQEBLBgwQKqVauGu7s7jz/+OFOmTGHevHlYLBYsFgvR0dEZnhb4yy+/ULduXdzd3SlevDhDhgwhJSUl0/Vn5IcffmDYsGHcd999hIWFUatWLfr27cvjjz/u3Of8+fN0796dwoUL4+Xlxb333svu3bvTvC9/f39++OEHwsPDr/u+RERERPKbExcT6P7lekbN305Sqp27KxdlYf8mClb/UOcqOyTHw5slbv/rDjsGbt43/fQpU6YQFRXFunXrWLNmDT179qRhw4a0aNGC77//nvfff5/p06dTtWpVTpw4waZNm5zP7dOnD9u2bWP69OmUKFGCOXPm0Lp1a7Zs2UKFChUAx2l4H3zwAZ999hlBQUEUL16cy5cvExMTw6RJkwAICAjg2LFjaeo6evQo9913Hz179uSrr75ix44d9O7dGw8PjzQB6nr1ZyQ4OJgFCxbw4IMP4uvrm+E+PXv2ZPfu3fzwww/4+fnx4osvct9997Ft2zZcXV2d7+vtt9/miy++IDAw8JrvS0RERCQ/WbDlOENnb+Hi5WQ8XK283CacR+qV0lk8/5IrOlcff/wxYWFheHh4UK9ePdavX3/NfWfPnk3t2rXx9/fH29ubyMhIpk6dmmafnj17OjsIV75at26d028jz4mIiODVV1+lQoUKdO/endq1a7Ns2TIADh06RHBwMM2bN6dUqVLUrVuX3r17O7dNmjSJmTNn0rhxY8qVK8fAgQNp1KiRM1wAJCcnM2bMGBo0aEClSpXw8/PD09MTd3d3goODCQ4Oxs0t/Y3kJkyYQGhoKOPHj6dy5cq0b9+ekSNH8t5772G32zNVf0Y+++wzVq9eTWBgIHXq1GHAgAGsWrXKuf1KqPriiy9o3LgxNWrUYNq0aRw9epS5c+emeV8TJkzI8vsSERERyYsuJSQzcOYmnp32JxcvJ1MtxI+f+jbm0TtLK1j9h+mdqxkzZhAVFcXEiROpV68e48aNo1WrVuzcuZOiRYum2z8gIICXXnqJypUr4+bmxk8//USvXr0oWrQorVq1cu7XunXrNL/ou7u759ybcPVydJFuN9dbu2dAREREmsfFixfn1KlTAHTu3Jlx48ZRtmxZWrduzX333Ufbtm1xcXFhy5YtpKamUrFixTTPT0xMJDAw0PnYzc3tphap2L59O/Xr10/zw9qwYUNiY2M5cuQIpUqVumH9GWnSpAn79u1j7dq1rF69mmXLlvHBBx8wcuRIXnnlFbZv346Liwv16tVzPicwMJBKlSqxffv2NO/rv68tIiIikh/9ceAcA77byOFzl7FY4Nlm5eh3T0XcXHJFjybXMT1cjR07lt69e9OrVy8AJk6cyPz58/nyyy8ZMmRIuv2bNWuW5nG/fv2YMmUKv/32W5pwdaWLkBmJiYkkJiY6H8fExACODkVycnKafZOTkzEMA7vdnqaLgotnpl4rWxlGpq+7MgzDWfcVLi4uad8DjgUa7HY7ISEhbN++naVLl7J06VKeffZZ3n33XVasWEFMTAw2m43ff/8dm82W5vk+Pj7OufH09MRisaR53YzquPLfV56XmX1uVP+12Gw2GjZsSMOGDRk0aBBvvPEGr7/+OoMGDUrzGv/9K8y/v+eenp7OGq83vxm58v6Sk5PTzV12ufKZ/e9nV3KW5t0cmndzaN7NoXk3R0Gd9+RUO+NX7GPiyn3YDQjx9+DdjtWpE1YYjFSSk1Nz9vVz0bxnpQZTw1VSUhIbNmxg6NChzjGr1Urz5s1Zs2bNDZ9vGAbLly9n586dvP3222m2RUdHU7RoUQoXLszdd9/NqFGj0nRV/m306NGMHDky3fjixYvx8krbHXJxcSE4OJjY2FiSkpIy8zZzheTkZFJSUpzBMSUlhaSkJOfjK2PJyclpxpo2bUrTpk3p3r07devWZe3atVSoUIHU1FT2799PgwYN0r1WTEwMCQkJzvBx6dIl5zaLxUJiYmKa14iNjQUgLi6OmJgYypYty48//sjFixedIWfZsmX4+vri5+dHTExMpuu/kbCwMFJSUjh16hShoaGkpKSwfPlyZ/fq3Llz7Ny5k7CwsDTv67+vkdH7ykhSUhKXL19m5cqVaRboyAlLlizJ0eNLxjTv5tC8m0Pzbg7NuzkK0ryfugxTd9s4FOf4PaxOETsdy8RyetsaFmy7vbXkhnmPj4/P9L6mhqszZ86QmppKsWJpVxcpVqwYO3bsuObzLl68SEhICImJidhsNiZMmJBmEYPWrVvz4IMPUqZMGfbu3cuwYcO49957WbNmTYbdgqFDhxIVFeV8HBMTQ2hoKC1btsTPzy/NvgkJCRw+fBgfHx88PDxu9q3fdq6urri4uDjfj4uLC25ubmnen4uLC66urvj5+TF58mRSU1OpV68eXl5ezJs3D09PT8LDwwkMDOThhx/mueee491336VmzZqcPn2a5cuXU716ddq0aYOHh4czGPn6+jr/u0KFCqxYsYLjx48TGBhIoUKF8PHxAcDb2xs/Pz/69+/PxIkTefnll3nuueec4XnAgAH4+/tnqv6M3H333XTp0oXatWsTGBjItm3beOONN7jrrrsoWbIkJUuW5IEHHiAqKopPPvkEX19fhg4dSkhICF27dsXV1dX5vv77Ghm9rysLYPxbQkICnp6eNGnSJMc+P8nJySxZsoQWLVpkWIPkDM27OTTv5tC8m0Pzbo6CNO+GYTDjj6OM/XkHl5Pt+Hm48NoD4bSpnvO3zPmv3DTvWfnDvemnBd4MX19fNm7cSGxsLMuWLSMqKoqyZcs6Txns2rWrc9/q1asTERFBuXLliI6O5p577kl3PHd39wyvyXJ1dU33zbxyXyOr1YrVmnfONb2ysMe/a87o8ZWxgIAA3nrrLQYOHEhqairVq1fnxx9/JCgoCHAsST5q1CgGDRrE0aNHKVKkCHfeeSdt27ZNNzf/fp2nnnrKucx6bGwsK1asICwsDMD5vNDQUBYsWMCgQYOoWbMmAQEBPPHEE7zyyiuZrj8jrVq1YurUqbz88svEx8dTokQJ7r//foYPH+58zuTJk+nXrx8PPPAASUlJNGnShAULFjg/H1f2++9rZPS+/nsK65XnWSyWDD9b2e12vIakp3k3h+bdHJp3c2jezZHf5/1sbCIvfr+FpdtPAlC/bCDvPVSDEv4mXPryL7lh3rPy+hbDuIWbJd2ipKQkvLy8mDVrFu3bt3eO9+jRgwsXLjBv3rxMHefJJ5/k8OHDLFq06Jr7BAUFMWrUKP7v//7vhseLiYmhUKFCXLx4McPO1f79+ylTpkye6lyZwW63ExMTg5+fX54Kojnpdnx+kpOTWbBgAffdd5/p/xgVJJp3c2jezaF5N4fm3RwFYd5X7DzFoJmbORObiJvNyqBWlXiiURmsVvNWAsxN8369bPBfpv7G6+bmRq1atdIsn22321m2bBn169fP9HHsdnuaBSn+68iRI5w9e5bixYvfUr0iIiIiIvnF5aRUhs/7m16TfudMbCIVivow97mG9G5S1tRglZeZflpgVFQUPXr0oHbt2tStW5dx48YRFxfnXD2we/fuhISEMHr0aMCx+ETt2rUpV64ciYmJLFiwgKlTp/LJJ58AjsURRo4cSceOHQkODmbv3r0MHjyY8uXLp1lNUERERESkoPr76EX6z9jInlOOhcV6NQzjxdaV8XDNmdWMCwrTw1WXLl04ffo0w4cP58SJE0RGRrJw4ULnIheHDh1Kc0pZXFwczz77LEeOHMHT05PKlSvz9ddf06VLF8Cx1PbmzZuZMmUKFy5coESJErRs2ZLXX389Z+91JSIiIiKSy6XaDT5buY+xS3aSnGoQ5OvOmM41aFoxyOzS8gXTwxVAnz596NOnT4bboqOj0zweNWoUo0aNuuaxPD09r3vtlYiIiIhIQXTkfDxR321i/f5zALSqWozRD0YQ4O1mcmX5R64IVyIiIiIiknPmbTzKy3P/5lJCCl5uNka0rUrn2iWdt8uR7KFwJSIiIiKST128nMwrc//mh03HAKhZyp9xXSIpHehtcmX5k8KViIiIiEg+tGbvWV74biPHLiZgs1roe3d5+txVHhebbpGTUxSuRERERETykaQUO+8t2clnK/dhGFA60Iv3u0RyR6nCZpeW7ylciYiIiIjkE7tPXqLf9I1sOx4DQJfaobzSNhwfd/3afztolkVERERE8jjDMPhqzUHeXLCdxBQ7hb1cGf1gBK2rBZtdWoGiEy4LiJ49e2KxWHj66afTbXvuueewWCz07Nnz9heWSZs2beKBBx6gaNGieHh4EBYWRpcuXTh16tQtH9tisTB37txbL1JERETEBKcuJdBz0u+8+sNWElPsNKkYxKL+TRSsTKBwVYCEhoYyffp0Ll++7BxLSEjgm2++oVSpUrd0bMMwSElJudUSM3T69GnuueceAgICWLRoEdu3b2fSpEmUKFGCuLi4mz5uUlJSNlYpIiIicvst3nqC1uN+5Zddp3FzsTKibTiTe9ahqJ+H2aUVSApX2cAwDOKT42/7l2EYWarzjjvuIDQ0lNmzZzvHZs+eTalSpahZs2aafe12O6NHj6ZMmTJ4enpSo0YNZs2a5dweHR2NxWLh559/platWri7u/Pbb79x6dIlHnnkEby9vQkJCWHChAncfffd9O/f3/ncxMREBg4cSEhICN7e3tSrVy/dzaL/bdWqVVy8eJEvvviCmjVrUqZMGe666y7ef/99ypQp49zvl19+oW7duri7u1O8eHGGDBmSJvA1a9aMPn360L9/f4oUKUKrVq0ICwsDoEOHDlgsFudjERERkdwsLjGFId9v5qmpGzgXl0SV4n781LcRPRuWwWrVvavMomuussHllMvU+6bebX/ddQ+vw8vVK0vPefzxx5k0aRKPPPIIAF9++SW9evVKF25Gjx7N119/zcSJE6lQoQIrV67k0UcfJSgoiKZNmzr3GzJkCGPGjKFs2bIULlyYqKgoVq1axQ8//EBQUBAvvfQSf/75J5GRkc7n9OnTh23btjF9+nRKlCjBnDlzaN26NVu2bKFChQrpag4ODiYlJYU5c+bQqVOnDG92d/ToUe677z569uzJV199xY4dO+jduzceHh6MGDHCud+UKVN45plnWLVqFQABAQEULVqUSZMm0bp1a2w2W5bmU0REROR2++vQeQbM2MiBs/FYLPBU47JEtayIu4t+jzGbwlUB8+ijjzJ06FAOHjwIOLpC06dPTxOuEhMTefPNN1m6dCn169cHoGzZsvz22298+umnacLVa6+9RosWLQC4dOkSU6ZM4ZtvvuGee+7Bbrczfvx4wsPDnfsfOnSISZMmcejQIUqUKAHAwIEDWbhwIZMmTeLNN99MV/Odd97JsGHDePjhh3n66aepW7cud999N927d6dYsWIATJgwgdDQUMaPH4/FYqFy5cocO3aMF198keHDh2O1Opq0FSpU4J133kn3Gv7+/gQH67xkERERyb1SUu18vGIvHy7fTardoHghD957qAYNyhUxuzT5h8JVNvB08WTdw+tMed2sCgoKok2bNkyePBnDMGjTpg1FiqT9gdyzZw/x8fHO0HRFUlJSutMHa9eu7fzvffv2kZycTN26dZ1jhQoVolKlSs7HW7ZsITU1lYoVK6Y5TmJiIoGBgdes+4033iAqKorly5ezbt06Jk6cyJtvvsnKlSupXr0627dvp379+mm6Wg0bNiQ2NpYjR444rymrVavWjaZIREREJNc5eDaOATM28uehCwDcH1GcN9pXp5CXq7mFSRoKV9nAYrFk+fQ8Mz3++OP06dMHgI8//jjd9tjYWADmz59PSEhImm3u7u5pHnt7e2fptWNjY7HZbGzYsCHdKXg+Pj7XfW5gYCCdO3emc+fOvPnmm9SsWZMxY8YwZcqUTL9+VusVERERMZNhGMzccISRP2wlLikVX3cXXm9fjXaRJTK8VELMpXBVALVu3ZqkpCQsFgutWrVKtz08PBx3d3cOHTqU5hTAGylbtiyurq78/vvvzk7RxYsX2bVrF02aNAGgZs2apKamcurUKRo3bnzT78HNzY1y5co5VwusUqUK33//PYZhOP+hWbVqFb6+vpQsWfK6x3J1dSU1NfWmaxERERHJCefjkhg2Zws//30CgLphAbz3UA1CA/LOH/ULGoWrAshms7F9+3bnf/+Xr68vAwcOZMCAAdjtdho1asTFixdZtWoVfn5+9OjRI8Pj+vr60qNHDwYNGkRAQABFihTh5Zdfxmq1OgNPxYoVeeSRR+jevTvvvfceNWvW5PTp0yxbtoyIiAjatGmT7rg//fQT06dPp2vXrlSsWBHDMPjxxx9ZsGABkyZNAuDZZ59l3Lhx9O3blz59+rBz505effVVoqKinNdbXUtYWBjLli2jYcOGuLu7U7hw4SzNp4iIiEh2+3X3aQbO3MTJmERcrBaiWlbk/5qUw6aVAHM1hasCys/P77rbX3/9dYKCghg9ejT79u3D39+fO+64g2HDhl33eWPHjuXpp5/m/vvvx8/Pj759+3LixAk8PK7ea2HSpEmMGjWKF154gaNHj1KkSBHuvPNO7r///gyPGR4ejpeXFy+88AKHDx/G3d2dChUq8MUXX/DYY48BEBISwoIFCxg0aBA1atQgICCAJ554gpdffvmGc/Hee+8RFRXF559/TkhICAcOHLjhc0RERERyQkJyKu8s3MmXq/YDUDbImw+61KR6yUImVyaZoXBVQEyePPm62+fOnZvmscVioV+/fvTr1y/D/Zs1a5bhfbZ8fX2ZNm0a4LhX1vHjx3nnnXd46qmnnPu4uroycuRIRo4cmanay5Yty2effXbD/Zo2bcr69euvuf1a99Jq27Ytbdu2zVQtIiIiIjll+/EY+k/fyM6TlwB47M7SDLuvCp5uWmI9r1C4kmz1119/sWPHDurWrcv58+d59dVXAWjXrp3JlYmIiIjkTna7wZer9vPOwp0kpdop4uPGO50iuLtyMbNLkyxSuJJsN2bMGHbu3Imbmxs1atTgl19+Sbfcu4iIiIjA8YuXGThzE6v2nAWgeZWivNUxgiI+7jd4puRGCleSrWrWrMmGDRsAx2mBMTExN7y+S0RERKQgmr/5OMPmbOHi5WQ8XK28cn84D9ctpSXW8zCFKxERERGR2+hSQjKv/rCV2X8eBSCiZCHe7xJJuaDr3/NTcj+Fq5uU0WIOIjeiz42IiEjB9vuBcwyYsZEj5y9jtcCzzcrTr3kFXG3Xv3WM5A0KV1nk6uoKQHx8PJ6eniZXI3lNfHw8cPVzJCIiIgVDcqqdD5buZkL0HuwGlCzsyftdIqkTFmB2aZKNFK6yyGaz4e/vz6lTpwDw8vLSebHXYLfbSUpKIiEh4YY38s3vDMMgPj6eU6dO4e/vn+HNm0VERCR/2nc6lv4zNrL5yEUAHrwjhBEPVMXPQ39szW8Urm5CcHAwgDNgScYMw+Dy5ct4enoqgP7D39/f+fkRERGR/M0wDL5Zf4hRP23ncnIqhTxdeaNDNe6PKGF2aZJDFK5ugsVioXjx4hQtWpTk5GSzy8m1kpOTWblyJU2aNNFpcDhOBVTHSkREpGA4E5vIkO83s3S744/xDcsHMqZzDYoX0mUl+ZnC1S2w2Wz6Zfk6bDYbKSkpeHh4KFyJiIhIgbF8x0kGz9rMmdgk3GxWBreuxOMNy2C16kye/E7hSkREREQkG1xOSuWNBdv4eu0hACoW82Fcl5qEl9A9PwsKhSsRERERkVu05chF+s34i32n4wB4vGEZBreuhIerznIqSBSuRERERERuUqrdYOIve3l/yS5S7AZFfd1576EaNK4QZHZpYgKFKxERERGRm3DkfDxRMzax/sA5AFpXDWb0g9Up7O1mcmViFoUrEREREZEsMAyDeRuP8crcv7mUmIK3m40RD1SlU62Suv1MAadwJSIiIiKSSRfjk3l53t/8uOkYAHeU8uf9LpGUDvQ2uTLJDRSuREREREQyYfXeMwz8bhPHLiZgs1rod08Fnm1WDheb1ezSJJdQuBIRERERuY4UO7y9aBf/W3UAw4CwQC/e7xJJzVKFzS5NchmFKxERERGRa9h9MpaxW2wcjT8AQLe6obzcJhxvd/0aLenpUyEiIiIi8h+GYTBl9QFG/7yDxBQLhb1ceatjBK2qBptdmuRiClciIiIiIv9yKiaBgbM2s3LXaQCq+Nv54qkGhAT4mFyZ5HYKVyIiIiIi/1j49wmGzt7M+fhk3F2svNiqIgFn/6aor7vZpUkeoHAlIiIiIgVeXGIKr/24jRl/HAYgvLgfH3SNJCzAgwUL/ja5OskrFK5EREREpED789B5BszYyMGz8Vgs8FSTskS1qIi7i43k5GSzy5M8ROFKRERERAqklFQ741fs4aPle0i1G5Qo5MF7D0VSv1yg2aVJHqVwJSIiIiIFzsGzcfSfsZG/Dl0A4IEaJXi9fTUKebqaW5jkaQpXIiIiIlJgGIbBzD+OMOLHrcQnpeLr7sKoDtVoFxlidmmSDyhciYiIiEiBcD4uiaGzt7Bw6wkA6pYJYOxDNShZ2MvkyiS/ULgSERERkXxv5a7TDJy5iVOXEnG1WYhqUYmnmpTFZrWYXZrkI1azCwD4+OOPCQsLw8PDg3r16rF+/fpr7jt79mxq166Nv78/3t7eREZGMnXq1DT7GIbB8OHDKV68OJ6enjRv3pzdu3fn9NsQERERkVwmITmVET9spfuX6zl1KZFyQd7MebYhzzQrp2Al2c70cDVjxgyioqJ49dVX+fPPP6lRowatWrXi1KlTGe4fEBDASy+9xJo1a9i8eTO9evWiV69eLFq0yLnPO++8w4cffsjEiRNZt24d3t7etGrVioSEhNv1tkRERETEZNuOxfDA+N+YvPoAAN3rl+anvo2pFlLI3MIk3zI9XI0dO5bevXvTq1cvwsPDmThxIl5eXnz55ZcZ7t+sWTM6dOhAlSpVKFeuHP369SMiIoLffvsNcHStxo0bx8svv0y7du2IiIjgq6++4tixY8ydO/c2vjMRERERMYPdbvDZyr20/3gVu07GUsTHnUk96/Bau2p4utnMLk/yMVOvuUpKSmLDhg0MHTrUOWa1WmnevDlr1qy54fMNw2D58uXs3LmTt99+G4D9+/dz4sQJmjdv7tyvUKFC1KtXjzVr1tC1a9d0x0lMTCQxMdH5OCYmBoDk5GTdOO4WXJk7zeHtpXk3h+bdHJp3c2jezaF5z5zjFxMY/P0W1u4/D8A9lYN4o104gT7uNzV3mndz5KZ5z0oNpoarM2fOkJqaSrFixdKMFytWjB07dlzzeRcvXiQkJITExERsNhsTJkygRYsWAJw4ccJ5jP8e88q2/xo9ejQjR45MN7548WK8vLR6zK1asmSJ2SUUSJp3c2jezaF5N4fm3Rya92v764yFGfusXE614GY16BBmp77/cdatPH7Lx9a8myM3zHt8fHym982TqwX6+vqyceNGYmNjWbZsGVFRUZQtW5ZmzZrd1PGGDh1KVFSU83FMTAyhoaG0bNkSPz+/bKq64ElOTmbJkiW0aNECV1fdkO920bybQ/NuDs27OTTv5tC8X9ulhGRe+2kHc3c7QlREiB9jOlWnTBHvWz625t0cuWner5zVlhmmhqsiRYpgs9k4efJkmvGTJ08SHBx8zedZrVbKly8PQGRkJNu3b2f06NE0a9bM+byTJ09SvHjxNMeMjIzM8Hju7u64u7unG3d1dTX9m5kfaB7NoXk3h+bdHJp3c2jezaF5T2v9/nMMmLGRoxcuY7VAn7vK0/eeCrjasndpAc27OXLDvGfl9U1d0MLNzY1atWqxbNky55jdbmfZsmXUr18/08ex2+3Oa6bKlClDcHBwmmPGxMSwbt26LB1TRERERHKvpBQ77y7aQdfP1nD0wmVCAzz57v/qE9WyUrYHK5HMMv20wKioKHr06EHt2rWpW7cu48aNIy4ujl69egHQvXt3QkJCGD16NOC4Pqp27dqUK1eOxMREFixYwNSpU/nkk08AsFgs9O/fn1GjRlGhQgXKlCnDK6+8QokSJWjfvr1Zb1NEREREssmeU7EMmLGRLUcvAtCpVklebRuOr4c6S2Iu08NVly5dOH36NMOHD+fEiRNERkaycOFC54IUhw4dwmq9+teHuLg4nn32WY4cOYKnpyeVK1fm66+/pkuXLs59Bg8eTFxcHE899RQXLlygUaNGLFy4EA8Pj9v+/kREREQkexiGwbR1hxg1fxsJyXYKeboy+sHq3Fe9+I2fLHIbmB6uAPr06UOfPn0y3BYdHZ3m8ahRoxg1atR1j2exWHjttdd47bXXsqtEERERETHRmdhEXpy1mWU7TgHQqHwRxnSuQXAh/fFcco9cEa5ERERERK5l2faTvPj9Zs7EJuFmszK4dSUeb1gGq9VidmkiaShciYiIiEiudDkplVHztzFt3SEAKhXz5YNukVQO1q1yJHdSuBIRERGRXGfzkQv0n7GRfafjAHiiURkGtaqEh6vN5MpErk3hSkRERERyjVS7wcRf9vL+kl2k2A2K+bnzXudIGlUoYnZpIjekcCUiIiIiucLhc/FEfbeR3w+cB+C+6sG82aE6/l5uJlcmkjkKVyIiIiJiKsMwmPPXUYbP20psYgrebjZGtqtGxztCsFi0aIXkHQpXIiIiImKai/HJDJu7hfmbjwNQq3Rh3n8oklKBXiZXJpJ1ClciIiIiYorVe87wwsxNHL+YgM1qof89FXimWTlcbFazSxO5KQpXIiIiInJbJaakMmbRTj7/dT8AZYp4836XSCJD/c0tTOQWKVyJiIiIyG2z88Ql+k3/ix0nLgHQrW4pXm5TBW93/VoqeZ8+xSIiIiKS4+x2g8mrD/DWwh0kpdgJ8Hbj7Y4RtAgvZnZpItlG4UpEREREctTJmAQGztzEr7vPANCsUhDvdIqgqK+HyZWJZC+FKxERERHJMQv/Ps7Q2Vs4H5+Mu4uVl9tU4dE7S2uJdcmXFK5EREREJNvFJqbw2o9b+e6PIwBULeHHB10jKV/U1+TKRHKOwpWIiIiIZKsNB88zYMZGDp2Lx2KBp5uWY0Dziri5aIl1yd8UrkREREQkW6Sk2vlo+R7Gr9hDqt0gxN+T9x6qwZ1lA80uTeS2ULgSERERkVt24Ewc/WdsZOPhCwC0jyzByHbVKOTpam5hIreRwpWIiIiI3DTDMPjuj8OM/HEb8Ump+Hq4MKp9NdpFhphdmshtp3AlIiIiIjflXFwSQ77fzOJtJwGoVyaAsV0iCfH3NLkyEXMoXImIiIhIlv2y6zQDZ27i9KVEXG0WXmhZid6Ny2Kzaol1KbgUrkREREQk0xKSU3nr5x1MXn0AgPJFfRjXJZJqIYXMLUwkF1C4EhEREZFM2XrsIv2nb2T3qVgAetQvzdD7quDhajO5MpHcQeFKRERERK7Lbjf4/Nd9jFm8k+RUgyI+7rzbOYK7KhU1uzSRXEXhSkRERESu6diFy0R9t5G1+84B0CK8GG89WJ1AH3eTKxPJfRSuRERERCRDP2w6xstzthCTkIKnq41X24bTpU4oFosWrRDJiMKViIiIiKQRk5DM8Ll/M3fjMQBqhPozrkskZYp4m1yZSO6mcCUiIiIiTuv2nSXqu00cvXAZqwX63F2BvneXx9VmNbs0kVxP4UpERERESEqx8/7SXUz8ZS+GAaUCvHi/SyS1Shc2uzSRPEPhSkRERKSA23Mqlv4z/uLvozEAdK5VklcfqIqPu35VFMkK/cSIiIiIFFCGYfD12oO8sWA7Ccl2/L1cGd2hOvdWL252aSJ5ksKViIiISAF0+lIig2dtYsXO0wA0rlCEdzvVILiQh8mVieRdClciIiIiBczSbSd58fvNnI1Lws3FypDWlenZIAyrVUusi9wKhSsRERGRAiI+KYVR87fzzbpDAFQO9mVc10gqB/uZXJlI/qBwJSIiIlIAbDp8gf4zNrL/TBwAvRuX4YWWlfBwtZlcmUj+oXAlIiIiko+l2g0+id7DuKW7SbEbBPt58N5DNWhYvojZpYnkOwpXIiIiIvnU4XPxDJixkT8OngegTfXivNGhGv5ebiZXJpI/KVyJiIiI5DOGYTD7z6O8+sNWYhNT8HF3YeQDVXnwjhAsFi1aIZJTFK5ERERE8pEL8Um8NOdv5m85DkDt0oV5v0skoQFeJlcmkv8pXImIiIjkE6v2nOGF7zZxIiYBF6uFAS0q8nTTcti0xLrIbaFwJSIiIpLHJSSnMmbRTr74bT8AZYt4836XSGqE+ptbmEgBo3AlIiIikoftOBFD/+kb2XHiEgCP1CvFS22q4OWmX/NEbjf91ImIiIjkQXa7waTVB3h74Q6SUuwEervxdscImocXM7s0kQJL4UpEREQkjzkZk8DAmZv4dfcZAO6uXJS3O0YQ5OtucmUiBZvClYiIiEgesnDrSV75YRsX4pPxcLXyUptwHq1XSkusi+QCClciIiIieUBsYgrT9lhZv2YTANVC/BjXpSbli/qYXJmIXKFwJSIiIpLLbTh4jv7TN3L4vBWLBZ5pWo7+zSvi5mI1uzQR+Zdc8RP58ccfExYWhoeHB/Xq1WP9+vXX3Pfzzz+ncePGFC5cmMKFC9O8efN0+/fs2ROLxZLmq3Xr1jn9NkRERESyVXKqnbGLd9J54hoOn79MgLvBtMfrMLh1ZQUrkVzI9J/KGTNmEBUVxauvvsqff/5JjRo1aNWqFadOncpw/+joaLp168aKFStYs2YNoaGhtGzZkqNHj6bZr3Xr1hw/ftz59e23396OtyMiIiKSLfafiaPTxDV8uHwPdgPa1SjO4IhU6oQVNrs0EbkG08PV2LFj6d27N7169SI8PJyJEyfi5eXFl19+meH+06ZN49lnnyUyMpLKlSvzxRdfYLfbWbZsWZr93N3dCQ4Odn4VLqx/iERERCT3MwyD6esP0ebDX9l0+AJ+Hi582K0mYzpVx1MXdIjkaqb+iCYlJbFhwwaGDh3qHLNarTRv3pw1a9Zk6hjx8fEkJycTEBCQZjw6OpqiRYtSuHBh7r77bkaNGkVgYGCGx0hMTCQxMdH5OCYmBoDk5GSSk5Oz+rbkH1fmTnN4e2nezaF5N4fm3Rya95xzNi6Jl+duZemO0wDcWaYw73SsTvFCHpp3k2jezZGb5j0rNVgMwzBysJbrOnbsGCEhIaxevZr69es7xwcPHswvv/zCunXrbniMZ599lkWLFrF161Y8PDwAmD59Ol5eXpQpU4a9e/cybNgwfHx8WLNmDTabLd0xRowYwciRI9ONf/PNN3h5ed3COxQRERHJnG3nLXyz18qlZAs2i8H9pew0K25g1QrrIqaKj4/n4Ycf5uLFi/j5+V133zzdXH7rrbeYPn060dHRzmAF0LVrV+d/V69enYiICMqVK0d0dDT33HNPuuMMHTqUqKgo5+OYmBjntVw3mkC5tuTkZJYsWUKLFi1wdXU1u5wCQ/NuDs27OTTv5tC8Z6+E5FTeWbSLqTsOA1A+yJv3OlcnvHja30E07+bQvJsjN837lbPaMsPUcFWkSBFsNhsnT55MM37y5EmCg4Ov+9wxY8bw1ltvsXTpUiIiIq67b9myZSlSpAh79uzJMFy5u7vj7p7+juaurq6mfzPzA82jOTTv5tC8m0Pzbg7N+637++hF+s/YyJ5TsQD0bBDGkHsr4+Ga/kybKzTv5tC8myM3zHtWXt/UBS3c3NyoVatWmsUorixO8e/TBP/rnXfe4fXXX2fhwoXUrl37hq9z5MgRzp49S/HixbOlbhEREZFbkWo3+CR6Lx0mrGLPqViCfN2Z8nhdRjxQ9brBSkRyN9NPC4yKiqJHjx7Url2bunXrMm7cOOLi4ujVqxcA3bt3JyQkhNGjRwPw9ttvM3z4cL755hvCwsI4ceIEAD4+Pvj4+BAbG8vIkSPp2LEjwcHB7N27l8GDB1O+fHlatWpl2vsUERERATh64TJRMzaybv85AFqGF+OtjhEEeLuZXJmI3CrTw1WXLl04ffo0w4cP58SJE0RGRrJw4UKKFSsGwKFDh7BarzbYPvnkE5KSkujUqVOa47z66quMGDECm83G5s2bmTJlChcuXKBEiRK0bNmS119/PcNT/0RERERul3kbj/Ly3L+5lJCCl5uNV9uG81DtUCwWrVohkh+YHq4A+vTpQ58+fTLcFh0dnebxgQMHrnssT09PFi1alE2ViYiIiNy6i5eTGT7vb+ZtPAZAZKg/47pEElbE2+TKRCQ75YpwJSIiIpJfrd13lhe+28TRC5exWS30vbs8fe4qj4vN1EvfRSQHKFyJiIiI5ICkFDtjl+zi05V7MQwoFeDF+10iqVW6sNmliUgOUbgSERERyWZ7Tl2i3/SNbD3muD9Ol9qhvNI2HB93/eolkp/pJ1xEREQkmxiGwdS1B3lj/nYSU+z4e7ny1oPVaV1Nt4MRKQgUrkRERESywalLCQyetZnonacBaFyhCGM616CYn4fJlYnI7aJwJSIiInKLFm89wZDZWzgXl4Sbi5Wh91amR/0wrFYtsS5SkChciYiIiNyk+KQUXv9pG9+uPwxAleJ+fNA1korFfE2uTETMoHAlIiIichM2Hr7AgBkb2X8mDosFejcuywstK+LuYjO7NBExicKViIiISBakpNqZEL2XD5btJtVuULyQB+91rkGD8kXMLk1ETKZwJSIiIpJJh87GM+C7jWw4eB6ANhHFebN9dQp5uZpcmYjkBgpXIiIiIjdgGAbf/3mUET9sJTYxBV93F15rX5X2kSFYLFq0QkQcFK5EREREruN8XBIvzd3Cgi0nAKgbFsB7D9UgNMDL5MpEJLdRuBIRERG5hl93n2bgzE2cjEnExWphQIuKPN20HDYtsS4iGVC4EhEREfmPhORU3lm4ky9X7QegbBFvxnWNJKKkv7mFiUiupnAlIiIi8i/bj8fQf/pGdp68BMCjd5Zi2H1V8HLTr00icn36V0JEREQEsNsNvly1n3cW7iQp1U6gtxvvdIrgnirFzC5NRPKILIer/fv38+uvv3Lw4EHi4+MJCgqiZs2a1K9fHw8Pj5yoUURERCRHnbiYwAszN7Jqz1kA7qlclLc6RhDk625yZSKSl2Q6XE2bNo0PPviAP/74g2LFilGiRAk8PT05d+4ce/fuxcPDg0ceeYQXX3yR0qVL52TNIiIiItlmwZbjDJ29hYuXk/FwtfLK/eE8XLeUllgXkSzLVLiqWbMmbm5u9OzZk++//57Q0NA02xMTE1mzZg3Tp0+ndu3aTJgwgc6dO+dIwSIiIiLZ4VJCMiN+2Mb3fx4BoHpIIcZ1jaRckI/JlYlIXpWpcPXWW2/RqlWra253d3enWbNmNGvWjDfeeIMDBw5kV30iIiIi2e6PA+cY8N1GDp+7jNUCzzYrT7/mFXC1Wc0uTUTysEyFq+sFq/8KDAwkMDDwpgsSERERySnJqXY+XLabj1fswW5AiL8n73eJpG6ZALNLE5F8IMt/nvnzzz/ZsmWL8/G8efNo3749w4YNIykpKVuLExEREckuu09eouMnq/louSNYPXhHCD/3b6xgJSLZJsvh6v/+7//YtWsXAPv27aNr1654eXkxc+ZMBg8enO0FioiIiNyKlFQ7E6L30ObD39h85CJ+Hi6Mf7gmYx+KxM/D1ezyRCQfyfJS7Lt27SIyMhKAmTNn0qRJE7755htWrVpF165dGTduXDaXKCIiInJzdp+8xMCZm9h05CIAd1UKYvSDEQQX0u1jRCT7ZTlcGYaB3W4HYOnSpdx///0AhIaGcubMmeytTkREROQmpKTa+ezXfYxbspukVDu+Hi682rYqHe8I0RLrIpJjshyuateuzahRo2jevDm//PILn3zyCeC4uXCxYrqDuYiIiJhr98lLDJy1mU2HLwDqVonI7ZPlcDVu3DgeeeQR5s6dy0svvUT58uUBmDVrFg0aNMj2AkVEREQyIyXVzue/7uf9Jbuc3arh94fTqVZJdatE5LbIcriKiIhIs1rgFe+++y42my1bihIRERHJCnWrRCQ3yHK4uhYPD/3jJSIiIreXulUikptkKlwVLlw40/9AnTt37pYKEhEREckMdatEJLfJVLj69/LqZ8+eZdSoUbRq1Yr69esDsGbNGhYtWsQrr7ySI0WKiIiIXKFulYjkVpkKVz169HD+d8eOHXnttdfo06ePc+z5559n/PjxLF26lAEDBmR/lSIiIiLAnlOXeGGmulUikjtZs/qERYsW0bp163TjrVu3ZunSpdlSlIiIiMi/paTa+SR6L/d9+BubDl/A18OFdztF8GXPOgpWIpJrZDlcBQYGMm/evHTj8+bNIzAwMFuKEhEREbliz6lLdJy4hrcX7iApxU6zSkEsHtCEzrVDdRqgiOQqWV4tcOTIkTz55JNER0dTr149ANatW8fChQv5/PPPs71AERERKZic11Yt3UVSiuPaqlfuD6ezrq0SkVwqy+GqZ8+eVKlShQ8//JDZs2cDUKVKFX777Tdn2BIRERG5Ff+9tqpZpSBGP1id4oU8zS1MROQ6buo+V/Xq1WPatGnZXYuIiIgUcOpWiUhedlPhym63s2fPHk6dOoXdbk+zrUmTJtlSmIiIiBQse05dYuDMzWxUt0pE8qgsh6u1a9fy8MMPc/DgQQzDSLPNYrGQmpqabcWJiIhI/pdqN/j8132MXfJPt8rdhVfaqlslInlPlsPV008/Te3atZk/fz7FixfXP3oiIiJy0/7brWpaMYi3OqpbJSJ5U5bD1e7du5k1axbly5fPiXpERESkAFC3SkTyoyyHq3r16rFnzx6FKxEREbkp6laJSH6V5XDVt29fXnjhBU6cOEH16tVxdXVNsz0iIiLbihMREZH8Q90qEcnvshyuOnbsCMDjjz/uHLNYLBiGoQUtREREJEN7TsUycOYmdatEJF/Lcrjav39/TtQhIiIi+VCq3eCLX/fx3r+7VfeH07m2ulUikv9kOVyVLl06J+oQERGRfCajbtXoB6tTwl/dKhHJn6w386S9e/fSt29fmjdvTvPmzXn++efZu3fvTRfx8ccfExYWhoeHB/Xq1WP9+vXX3Pfzzz+ncePGFC5cmMKFC9O8efN0+xuGwfDhwylevDienp40b96c3bt333R9IiIiknmpdoNPf9nLfR/+ysbDF/B1d+GdjhFM7lVHwUpE8rUsh6tFixYRHh7O+vXriYiIICIignXr1lG1alWWLFmS5QJmzJhBVFQUr776Kn/++Sc1atSgVatWnDp1KsP9o6Oj6datGytWrGDNmjWEhobSsmVLjh496tznnXfe4cMPP2TixImsW7cOb29vWrVqRUJCQpbrExERkczbcyqWjp+sZvTPO0hKsdO0YhCLBjThoTqhOg1QRPK9LJ8WOGTIEAYMGMBbb72VbvzFF1+kRYsWWTre2LFj6d27N7169QJg4sSJzJ8/ny+//JIhQ4ak23/atGlpHn/xxRd8//33LFu2jO7du2MYBuPGjePll1+mXbt2AHz11VcUK1aMuXPn0rVr1yzVJyIiIjema6tERG4iXG3fvp3vvvsu3fjjjz/OuHHjsnSspKQkNmzYwNChQ51jVquV5s2bs2bNmkwdIz4+nuTkZAICAgDHghsnTpygefPmzn0KFSpEvXr1WLNmTYbhKjExkcTEROfjmJgYAJKTk0lOTs7Se5Krrsyd5vD20rybQ/NuDs27Of4773tPx/Hi7L/ZdOQiAE0qBDKqXVWKF/IgJSXFtDrzG33ezaF5N0FSHMaGKYSePUxyctYaNzkhK9/7LIeroKAgNm7cSIUKFdKMb9y4kaJFi2bpWGfOnCE1NZVixYqlGS9WrBg7duzI1DFefPFFSpQo4QxTJ06ccB7jv8e8su2/Ro8ezciRI9ONL168GC8vr0zVIdd2M6eLyq3TvJtD824Ozbs5Fi1ewopjFhYctpJiWPCwGXQIs1Mv8CR/rTrJX2YXmE/p824OzXvOc025RNnTSyl7ejFuqXFUcS3MkkX1MaxZjizZKj4+PtP7ZrnS3r1789RTT7Fv3z4aNGgAwKpVq3j77beJiorK6uFuyVtvvcX06dOJjo7Gw8Pjpo8zdOjQNLXHxMQ4r+Xy8/PLjlILpOTkZJYsWUKLFi3S3Wxaco7m3Ryad3No3s2RnJzM1z8sYf7pADYddZzt0bh8IG+0d3SrJGfo824OzfttcPEI1nWfYP17KpZkR5Cx+5dmp+9dNG9+D64e3qaWd+WstszIcrh65ZVX8PX15b333nOezleiRAlGjBjB888/n6VjFSlSBJvNxsmTJ9OMnzx5kuDg4Os+d8yYMbz11lssXbqUiIgI5/iV5508eZLixYunOWZkZGSGx3J3d8fd3T3duKurq36IsoHm0Ryad3No3s2heb99Uu0Gk3/bz9hNNlKMGHzdXXj5/io8VFsLVtwu+rybQ/OeA07tgFUfwJbvwP7PKcTBEdCoP6kV7uPgwsVU9fA2fd6z8vpZDlcWi4UBAwYwYMAALl26BICvr29WDwOAm5sbtWrVYtmyZbRv3x4Au93OsmXL6NOnzzWf98477/DGG2+waNEiateunWZbmTJlCA4OZtmyZc4wFRMTw7p163jmmWduqk4RERFxrAQ4aNYm/jp0AbDQuHwgb3eqoeXVRSRrDq+H396HnQuujoU1hkYDoNzdYLFAHr3GLcvhav/+/aSkpFChQoU0oWr37t24uroSFhaWpeNFRUXRo0cPateuTd26dRk3bhxxcXHO1QO7d+9OSEgIo0ePBuDtt99m+PDhfPPNN4SFhTmvo/Lx8cHHxweLxUL//v0ZNWoUFSpUoEyZMrzyyiuUKFHCGeBEREQk8/67EqCPuwv3hyTyWvc7cHNzM7s8EckLDAN2L4FV4+Dgqn8GLVC5jSNUlax9vWfnGVkOVz179uTxxx9Pt6DFunXr+OKLL4iOjs7S8bp06cLp06cZPnw4J06cIDIykoULFzoXpDh06BBW69XbcX3yySckJSXRqVOnNMd59dVXGTFiBACDBw8mLi6Op556igsXLtCoUSMWLlx4S9dliYiIFERpu1XQpGIQox6owl+rlus0QBG5sdQU2DrHEapO/u0Ys7pCjS7QoB8EVTS1vOyW5XD1119/0bBhw3Tjd95553VP5buePn36XPO5/w1rBw4cuOHxLBYLr732Gq+99tpN1SMiIlLQpdoN/vfbPsYsvnrfqivXVqWkpGglQBG5vuTL8NfXsPpDuHDIMebqDbV7wZ3PQqEQc+vLITd1zdWVa63+7eLFi6SmpmZLUSIiImKejLpVbz1YXddWiciNXT4Pv38BaydC/BnHmFcg1HsG6jwBXgHm1pfDshyumjRpwujRo/n222+x2WwApKamMnr0aBo1apTtBYqIiMjtcb1ulU4BFJHrijkGayfAH5MgKdYxVqgUNOgLNR8Ft4Jx79gsh6u3336bJk2aUKlSJRo3bgzAr7/+SkxMDMuXL8/2AkVERCTnqVslIjflzG7HcuqbpoP9nxX+ioY7Fqmo2gFsBWv5+iyHq/DwcDZv3sz48ePZtGkTnp6edO/enT59+hAQkL/bfCIiIvmNulUiclOOboDfxsH2HwHDMVaqviNUVWjpWE69AMpyuALHTYPffPPN7K5FREREbiN1q0QkSwwD9q1w3KNq/8qr4xXvhUb9odSdppWWW9xUuPr111/59NNP2bdvHzNnziQkJISpU6dSpkwZXXclIiKSy6lbJSJZYk+F7T84QtXxTY4xiw2qd4aG/aBYuLn15SJZDlfff/89jz32GI888gh//vkniYmJgGO1wDfffJMFCxbc4AgiIiJilr2nYxk0cxN//tOtalyhCG93jFC3SkTSS06ATd86llM/t88x5uIJtXpA/efAv5S59eVCWQ5Xo0aNYuLEiXTv3p3p06c7xxs2bMioUaOytTgRERHJHql2gy9/28+YxTtJTLHj4+7Cy22q0KWOulUi8h8JFx2r/q2dALEnHWMe/lDv/6Du/4F3oKnl5WZZDlc7d+6kSZMm6cYLFSrEhQsXsqMmERERyUYZdave6hhBiLpVIvJvl07Cuk/g9/9BYoxjzC8E6veBO7qDu4+59eUBWQ5XwcHB7Nmzh7CwsDTjv/32G2XLls2uukREROQWqVslIplybh+s/gj+mgapjkt+KFLJcT1V9c7g4mZufXlIlsNV79696devH19++SUWi4Vjx46xZs0aBg4cyCuvvJITNYqIiEgWqVslIjd0fJNjOfVtc8GwO8ZCakPjKMcKgFarmdXlSVkOV0OGDMFut3PPPfcQHx9PkyZNcHd3Z+DAgfTt2zcnahQREZFMUrdKRK7LMODAb46V//YuuzpevrnjHlWlGxbYe1RlhyyHK4vFwksvvcSgQYPYs2cPsbGxhIeH4+OjczBFRETMtPd0LINnbWbDwfOAulUi8i92O+yc7whVRzc4xixWqPqg4/S/4hHm1pdP3NR9rgDc3NwIDw8nJiaGpUuXUqlSJapUqZKdtYmIiEgmqFslIteUkgRbvnOc/nd2t2PMxQMiH4EGfSGgjKnl5TdZDlcPPfQQTZo0oU+fPly+fJk6deqwf/9+DMNg+vTpdOzYMSfqFBERkQyoWyUiGUq8BBumwJqP4dIxx5h7Iaj7JNR7GnyKmltfPpXlcLVy5UpeeuklAObMmYPdbufChQtMmTKFUaNGKVyJiIjcBhl1q15qU4Wu6laJFGxxZ2Ddp7D+M0i44BjzCYb6z0KtXuDhZ2p5+V2Ww9XFixcJCAgAYOHChXTs2BEvLy/atGnDoEGDsr1AERERSUvdKhFJ5/xBWDMe/pwKKZcdYwHlHNdT1egKLu7m1ldAZDlchYaGsmbNGgICAli4cCHTp08H4Pz583h4eGR7gSIiIuKgbpWIpHNyK6z6ALbMAiPVMVY80rHyX5W2YLWZWl5Bk+Vw1b9/fx555BF8fHwoXbo0zZo1AxynC1avXj276xMRERFg3+lYBqlbJSJXHFzjWPlv96KrY2WbOUJVmaZaTt0kWQ5Xzz77LPXq1ePQoUO0aNEC6z83FytbtiyjRo3K9gJFREQKslS7waRV+3l3kbpVIgWe3Q67FztC1eG1/wxaILwdNOoPJWqaWZ1wk0ux16pVi1q1aqUZa9OmTbYUJCIiIg7qVokIAKnJ8Pf3juXUT293jNncoEY3aPA8FClvanlyVabC1VtvvUW/fv3w9LzxP+br1q3jzJkzClsiIiI3Sd0qEQEgKR7+mgqrP4KLhx1jbr5Quxfc+Sz4FTe3PkknU+Fq27ZtlCpVis6dO9O2bVtq165NUFAQACkpKWzbto3ffvuNr7/+mmPHjvHVV1/laNEiIiL5lbpVIkL8OVj/Oaz/FOLPOsa8g+DOZ6D2E+Dpb2p5cm2ZCldfffUVmzZtYvz48Tz88MPExMRgs9lwd3cnPj4egJo1a/Lkk0/Ss2dPrRooIiKSRepWiQgXj8CaCbBhMiTHOcYKhzlO/Yt8GFz1R5bcLtPXXNWoUYPPP/+cTz/9lM2bN3Pw4EEuX75MkSJFiIyMpEiRIjlZp4iISL6175/7Vv2hbpVIwXR6p2M59c0zwJ7iGCtW3bFIRXh7sN3UMgligix/p6xWK5GRkURGRuZAOSIiIgXHf7tV3m42XmoTTre66laJFAiHf4dV42DHT1fHwhpDw/5Q/h4tp54HKQaLiIiY4L/dqkbli/BWx+qULOxlcmUikqMMA/YscyynfvC3q+OV73eEqtA6ppUmt07hSkRE5DZSt0qkgEpNgW1zHcupn9ziGLO6QEQXaNgPgiqZWZ1kE4UrERGR20TdKpECKPkybJzmWE79/AHHmKs31OoJ9Z+FQiXNrE6ymcKViIhIDlO3SqQAunwB/vgfrP0E4k47xjwDHMup13kSvAJMLU9yxk2Hqz179rB3716aNGmCp6cnhmHofxAiIiL/oW6VSAETcxzWToA/JkHSJcdYoVBo0BdqPgpu3ubWJzkqy+Hq7NmzdOnSheXLl2OxWNi9ezdly5bliSeeoHDhwrz33ns5UaeIiEieom6VSAFzdq9jOfVN30JqkmMsqIpjOfVqHcHmamp5cntkOVwNGDAAFxcXDh06RJUqVZzjXbp0ISoqSuFKREQKvP1n4hg0c5O6VSIFwbG/HItUbJsHGI6x0Duh0QCo0BKsVjOrk9ssy+Fq8eLFLFq0iJIl0158V6FCBQ4ePJhthYmIiOQ1GXWrhrWpwsN1S6lbJZKfGAbsi3bco2pf9NXxiq0dy6mXrm9OXWK6LIeruLg4vLzS/+Xt3LlzuLu7Z0tRIiIieY26VSIFgD0Vtv/ouEfV8Y2OMYsNqndyLKderKqp5Yn5shyuGjduzFdffcXrr78OgMViwW63884773DXXXdle4EiIiK5mbpVIvmf1Z6M5a+psHY8nNvrGHTxhDseg/p9oHBpcwuUXCPL4eqdd97hnnvu4Y8//iApKYnBgwezdetWzp07x6pVq3KiRhERkVxJ3SqRfC4hBuv6L2ix9QNcNl1wjHn4Q92noN7/gXcRM6uTXCjL4apatWrs2rWL8ePH4+vrS2xsLA8++CDPPfccxYsXz4kaRUREchW73WDS6gO8u2gHCcnqVonkO7GnYN1EWP8FtsSL2ADDtziWBn3hjh7g7mN2hZJL3dR9rgoVKsRLL72U3bWIiIjkevvPxDF41iZ+P+DoVjUsH8jbHSPUrRLJD87th9UfwcZpkJIAgBFYno3ezaj28Gu4eugeVXJ9NxWuEhIS2Lx5M6dOncJut6fZ9sADD2RLYSIiIrmJulUi+diJLY7l1LfOBuOf321DakGjAaSUa8mhnxdSzeZmaomSN2Q5XC1cuJDu3btz5syZdNssFgupqanZUpiIiEhukVG36q0HIwgNULdKJM8yDDi4yrHy356lV8fL3eO4R1VYI7BYIDnZvBolz8lyuOrbty+dO3dm+PDhFCtWLCdqEhERyRXUrRLJh+x22PWzI1Qd+d0xZrFC1Q6O5dSL1zC3PsnTshyuTp48SVRUlIKViIjkawfOxDFI3SqR/CMlCbbMhFUfwJmdjjGbO9R8BBr0hYCy5tYn+UKWw1WnTp2Ijo6mXLlyOVGPiIiIqex2g8mrD/COulUi+UNiLPz5FawZDzFHHWPuflDnSaj3NPiqYSDZJ8vhavz48XTu3Jlff/2V6tWr4+rqmmb7888/n23FiYiI3E7/7VY1KOdYCVDdKpE8KO4srP8U1n8Glx0/0/gUgzufhdq9wKOQufVJvpTlcPXtt9+yePFiPDw8iI6OTvNXPIvFonAlIiJ5TkbdqqH3VeGReupWieQ5Fw7Bmo9hwxRIuewYCygLDZ6HGt3A1cPc+iRfs2b1CS+99BIjR47k4sWLHDhwgP379zu/9u3bl+UCPv74Y8LCwvDw8KBevXqsX7/+mvtu3bqVjh07EhYWhsViYdy4cen2GTFiBBaLJc1X5cqVs1yXiIgUDAfOxNHlszW89tM2EpLtNCgXyML+TXj0ztIKViJ5ycltMPv/4MOajhsAp1x2LE7ReTL0+cPRrVKwkhyW5c5VUlISXbp0wWrNci5LZ8aMGURFRTFx4kTq1avHuHHjaNWqFTt37qRo0aLp9o+Pj6ds2bJ07tyZAQMGXPO4VatWZenSq0tqurjc1O28REQkH/tvt8rLzcYwdatE8p5D6xwr/+36+epYmaaO5dTLNnMspy5ym2Q5dfTo0YMZM2YwbNiwW37xsWPH0rt3b3r16gXAxIkTmT9/Pl9++SVDhgxJt3+dOnWoU6cOQIbbr3BxcSE4OPiW6xMRkfzpwJk4Bs/azPoD5wBdWyWS5xgG7F7suPHvodX/DFqgSlto1N9xA2ARE2Q5XKWmpvLOO++waNEiIiIi0i1oMXbs2EwdJykpiQ0bNjB06FDnmNVqpXnz5qxZsyarZaWxe/duSpQogYeHB/Xr12f06NGUKlXqmvsnJiaSmJjofBwTEwNAcnIyybpx3E27Mneaw9tL824Ozbs5sjrvdrvBV+sO8d6S3c5u1eBWFelWuyRWq0Xfv0zS590cmnfAnoJl2xxsaz7CcmobAIbVFSOiC6l3PgeBFRz7ZeMcad7NkZvmPSs1WAzDMLJy8LvuuuvaB7NYWL58eaaOc+zYMUJCQli9ejX169d3jg8ePJhffvmFdevWXff5YWFh9O/fn/79+6cZ//nnn4mNjaVSpUocP36ckSNHcvToUf7++298fX0zPNaIESMYOXJkuvFvvvkGLy/9FVNEJD84fRm+3Wtj7yXHKUIV/Ox0K2cnUJdgiOR6Nnsipc6upPypn/FKOgNAitWD/UXuYl9QKxLcAkyuUPKz+Ph4Hn74YS5evIifn991981y52rFihU3XdjtcO+99zr/OyIignr16lG6dGm+++47nnjiiQyfM3ToUKKiopyPY2JiCA0NpWXLljecQLm25ORklixZQosWLdJ1OCXnaN7NoXk3R2bm3W43mLruEGP+yLhbJVmnz7s5CuS8X76AdcP/sP7+GZb4swAYXkWw13kKo9bjhHn6E5bDJRTIec8FctO8XzmrLTNMW+mhSJEi2Gw2Tp48mWb85MmT2Xq9lL+/PxUrVmTPnj3X3Mfd3R13d/d0466urqZ/M/MDzaM5NO/m0Lyb41rz/t9rq+qXDeSdTrq2Krvo826OAjHvF4/C2gmwYTIkxTrG/EtBg+ex1HwUm6sntttcUoGY91woN8x7Vl4/U+HqwQcfZPLkyfj5+fHggw9ed9/Zs2dn6oXd3NyoVasWy5Yto3379gDY7XaWLVtGnz59MnWMzIiNjWXv3r089thj2XZMERHJ3ex2gylrDvD2wqsrAQ69rwqP1C2lbpVIbnZ6F6z+ADbNAPs/17kUq+ZY+S+8Pdi0ArTkbpn6hBYqVMi5LG2hQtl3N+uoqCh69OhB7dq1qVu3LuPGjSMuLs65emD37t0JCQlh9OjRgGMRjG3btjn/++jRo2zcuBEfHx/Kly8PwMCBA2nbti2lS5fm2LFjvPrqq9hsNrp165ZtdYuISO518Gwcg2ZtZv1+datE8owjG+C3sbBjPvDPcgClGzpCVfnmWk5d8oxMhatJkybx2muvMXDgQCZNmpRtL96lSxdOnz7N8OHDOXHiBJGRkSxcuJBixYoBcOjQoTT30zp27Bg1a9Z0Ph4zZgxjxoyhadOmREdHA3DkyBG6devG2bNnCQoKolGjRqxdu5agoKBsq1tERHIfu93gqzUHeHvhTi4npzq6VfdW5pF6pdWtEsmNDAP2Lnfco+rAr1fHK7VxLKceWte00kRuVqZ7qyNHjuTpp5/O9tXz+vTpc83TAK8EpivCwsK40eKG06dPz67SREQkjzh4Lp5hc7c5u1V3lg3g3U411K0SyY3sqbBtruMeVSc2O8asLlD9IWjYD4pWNrM6kVuS6XCVxRXbRUREcpzdbrDyuIUh41dz+cq1VepWieROyQmw6RtY9SGc3+8Yc/WCWj3hzmfBP9TU8kSyQ5auCrTofFcREcklDp6NY9DMTaw/YAPs6laJ5FYJF+GPL2HNBIg75RjzLAz1noa6T4GX7lEl+UeWwlXFihVvGLDOnTt3SwWJiIhcz3+vrXKzGgy9rwo9GpRVt0okN7l0AtZ+4ghWif/cJ8ivJDToA3d0Bzdvc+sTyQFZClcjR47M1tUCRUREsuLQ2XgGzdrEun+urapXpjAt/U/zaD0tsS6Sa5zdC6s/hI3fQGqSYyyoMjTsD9U7gU33ipL8K0vhqmvXrhQtWjSnahEREcmQ3W4wde1B3vp5B5eTU/F0tTH0vsp0uaMECxf+bHZ5IgJwbCOsGgfb5oFhd4yVrAuNo6BCK/jXCtAi+VWmw5WutxIRETOk71Y5rq0qFehFcnKyydWJFHCGAftXOkLV3uVXxyu0dNyjqlR93aNKChStFigiIrnStbpVj2olQBHz2e2w4yfHPaqO/ekYs9igWkfHcurB1cytT8QkmQ5Xdrs9J+sQERFxOnQ2nsHfb2LtvvTdKhExUUoibP4OVn0AZ3c7xlw8oOZjjoUqCoeZWp6I2bJ0zZWIiEhOstsNvl7n6FbFJzm6VUPurcxjd6pbJWKqxEuwYTKs+RguHXeMeRRyLKVe9//AJ8jU8kRyC4UrERHJFTLqVr3TKYLSgVquWcQ0sadh3UT4/XPH/aoAfItD/eccN/919zW1PJHcRuFKRERMpW6VSC50/gCsHg9/TYWUBMdYYHnHcuoRD4GLu5nVieRaClciImKaw+ccKwFe6VbVLRPAu+pWiZjnxN+O66n+/h6MVMdYiTscK/9VbgNWm7n1ieRyClciInLbZdSterF1JbrXD1O3SuR2Mww4tMax8t/uxVfHy93t6FSVaaLl1EUySeFKRERuK3WrRHIJux12LXTco+rwOseYxQrh7RyhqkSkicWJ5E0KVyIiclvY7QbT1h1ktLpVIuZKTYYtsxyh6vQOx5jNDSIfgQZ9IbCcqeWJ5GUKVyIikuMOn4tn8KzNrNl3FlC3SsQUSXHw51eOhSpijjjG3P2g9uNw5zPgG2xufSL5gMKViIjkGHWrRHKB+HOw/jNY9ylcdpyOi3dRqP+sI1h5FDK3PpF8ROFKRERyhLpVIia7eMRx098NkyE53jFWuAw0fB5qPAyuHqaWJ5IfKVyJiEi2stsNpq0/xOgF24lPSsXD1cqLrSvTQ90qkdvj1A7HcupbvgN7imMsOMKxnHp4Oy2nLpKDFK5ERCTbpOtWhQXwTqcIwoqoWyWS4w6vdyynvnPB1bGwxo5QVe5uLacuchsoXImIyC1Tt0rEJIYBe5Y6QtXBVf8MWqDK/dBwAJSsZWp5IgWNwpWIiNySw+fiefH7zazeq26VyG2TmgJb5ziWUz/5t2PM6go1ukCDfhBU0dTyRAoqhSsREbkp6laJ3H5WexLWP76EdR/DhYOOQTcfqNUT7nwWCoWYWp9IQadwJSIiWaZulchtdvkC1nWf0XLrh9g2XXKMeQVCvWegzhPgFWBufSICKFyJiEgWGIbBtHWOblXcP92qwa0q07OBulUiOSLmOKz9GP6YhC0pFhtgFArF0rAfRD4Cbl5mVygi/6JwJSIimfLfblWdsMK826mGulUiOeHMbsdy6ptnQGoSAEZQFf70akpEt1dx9VCoEsmNFK5EROS61K0SuY2OboDfxsH2HwHDMVaqATQaQEpYM478/DMRNlczKxSR61C4EhGRazpy3tGtWrXnarfqnU41KKNulUj2MQzYF+1YTn3/L1fHK94LjfpDqTsdj5OTzahORLJA4UpERNIxDINv1h/izfnqVonkGHsqbP/BEaqOb3KMWV2gemdo2A+KVjG3PhHJMoUrERFJQ90qkRyWnACbvoXVH8K5fY4xVy+4ozvUfw78S5lbn4jcNIUrEREBMu5WDfqnW2VTt0rk1iXEwB9fwtoJEHvSMeZZGOr+H9R9CrwDza1PRG6ZwpWIiHDkfDxDvt/Cb3vOAFC7dGHe7axulUi2iD0Faz+B3/8HiRcdY34hUL+Po1vl7mNufSKSbRSuREQKMHWrRHLQuX2w+iP4axqkJjrGilRyLFJRrRO4uJlanohkP4UrEZECSt0qkRxyfDOsGgdb54Bhd4yVrAONBjhWALRaTS1PRHKOwpWISAHz326Vu4uVQa0q0athGXWrRG6WYcCB3xwr/+1ddnW8fAtHqCrdACz6+RLJ7xSuREQKEHWrRLKZ3Q475ztu/Hv0D8eYxQpVH3Sc/hdc3czqROQ2U7gSESkADMPg2/WHeXPBdmITU9StErlVKUmw5TtY9QGc2eUYc/GAmo86FqoIKGNufSJiCoUrEZF87uiFywz5fjO/7nZ0q2qVLsy7nSIoG6QVykSyLDEW/pwCq8fDpWOOMfdCUPdJqPc0+BQ1tz4RMZXClYhIPmUYBtN/P8wb89WtErllcWdg3aew/jNIuOAY8wl23PS3Vk/w8DOzOhHJJRSuRETyIXWrRLLJhUOOLtWfX0HKZcdYQDlo2A9qdAUXd3PrE5FcReFKRCQfUbdKJJuc3Oq4nmrLLDBSHWPFI6FxFFS+H6w2U8sTkdxJ4UpEJJ/IqFv1TqcIyqlbJZJ5B9c47lG1a+HVsbLNHMupl2mq5dRF5LoUrkRE8jh1q0Rukd0Ouxc77lF1eO0/gxYIb+dYTr1ETTOrE5E8ROFKRCQP+2+36o5S/rzbuYa6VSKZkZoMf892dKpObXOM2dygRjfHNVWB5UwtT0TyHoUrEZE8KKNu1cCWlXi8kbpVIjeUFA9/TYXVH8HFw44xN1+o8zjc+Sz4Bptbn4jkWQpXIiJ5jLpVIjfp9E7YMhP++BLizzrGvIPgzmeg9hPg6W9qeSKS91nNLuDjjz8mLCwMDw8P6tWrx/r166+579atW+nYsSNhYWFYLBbGjRt3y8cUEckrDMNg+vpDtHp/Jb/uPoO7i5WX7qvCzKcbKFiJXMuZPfDLuzChPnxcF1a+6whWhcOgzVjovwUav6BgJSLZwtTO1YwZM4iKimLixInUq1ePcePG0apVK3bu3EnRounvcB4fH0/ZsmXp3LkzAwYMyJZjiojkBepWiWTB2b2wbS78PQdObrk6bnWF8vdAxENQpR3YdAKPiGQvU/9VGTt2LL1796ZXr14ATJw4kfnz5/Pll18yZMiQdPvXqVOHOnXqAGS4/WaOKSKSmxmGwYzfDzNK11aJXN/5A7B1LmydDcc3XR23ukDZu6BqB6jcRh0qEclRpoWrpKQkNmzYwNChQ51jVquV5s2bs2bNmtt6zMTERBITE52PY2JiAEhOTiY5OfmmahGcc6c5vL007+bIiXk/fjGBl+Zu5dc9jmtDaoYW4q0O1Sgb5I09NQV7ara9VJ6lz7s5cs28XzyCdfs8LNvmYj3+l3PYsNgwyjTBXqUdRqU24Fn46nPMrvkW5Jp5L2A07+bITfOelRpMC1dnzpwhNTWVYsWKpRkvVqwYO3bsuK3HHD16NCNHjkw3vnjxYry8vG6qFrlqyZIlZpdQIGnezZEd824YsPaUhbkHrSSkWnCxGLQpZadZ8bPs+P0Xbu5fyPxNn3dzmDHvHknnKHFhPSHn1xEQv9c5bmDhjE8Vjhaux/FCtUhy9YNjwLGb+4NtbqbPuzk07+bIDfMeHx+f6X11sjEwdOhQoqKinI9jYmIIDQ2lZcuW+Pn5mVhZ3pacnMySJUto0aIFrq6uZpdTYGjezZFd8+7sVu1zdKsi/+lWlQvyzq5S8xV93s1x2+f90nGsO35ydKiOrHMOG1gwSjfAqNIOe6X78fcpij9QNecrMoU+7+bQvJsjN837lbPaMsO0cFWkSBFsNhsnT55MM37y5EmCg2/u/hI3e0x3d3fc3d3Tjbu6upr+zcwPNI/m0Lyb42bn3TAMvvvjMKN+2s6lxBTcXKwMbFmRJxqV1bVVmaDPuzlydN5jT8G2ebB1DhxcDRj/bLBAqfpQtQOW8Aew/HNPKlvOVJEr6fNuDs27OXLDvGfl9U0LV25ubtSqVYtly5bRvn17AOx2O8uWLaNPnz655pgiIjnt2IXLDJ29hV92nQagZil/3u1Ug/JFtRKgFDBxZ/4VqFaBYb+6LbSeY1GK8HbgV8K8GkVErsPU0wKjoqLo0aMHtWvXpm7duowbN464uDjnSn/du3cnJCSE0aNHA44FK7Zt2+b876NHj7Jx40Z8fHwoX758po4pIpJbZNSteqFFRZ5srG6VFCDx52D7D45Atf9XMP61UktI7auByj/UvBpFRDLJ1HDVpUsXTp8+zfDhwzlx4gSRkZEsXLjQuSDFoUOHsFqv3uf42LFj1KxZ0/l4zJgxjBkzhqZNmxIdHZ2pY4qI5AbHL15myPfqVkkBdfk87JgPf8+GfdFpA1WJmv8EqvZQuLRZFYqI3BTTF7To06fPNU/ZuxKYrggLC8MwjAz3zewxRUTMZBgGM/84wus/bVO3SgqWhIuwY4HjPlR7V4D9X0sbB0c4AlXV9hBQ1rQSRURulenhSkSkoPhvtyoy1J8xnSMoX9TX5MpEckhCDOxa6OhQ7V0GqUlXtxWr5ghTVR+EwHKmlSgikp0UrkREcpi6VVKgJMY6AtXWObB7CaQmXt0WVOWfDlUHCKpoXo0iIjlE4UpEJAcdv+hYCTB6p7pVko8lxcHuxY4O1e7FkJJwdVtgBaj2oCNQFa1iXo0iIreBwpWISA4wDIOZG/7pViU4ulVRLSrSW90qySes9iQsO36CHfNg1yJIjr+6MaCs43S/qh2gWFWw6DMvIgWDwpWISDb7b7eqRqg/76lbJflBcgLsXYZtyyzu3b4Al03/6lAVDrt6yl9whAKViBRIClciItnEMGDWn0d58+edabpVTzYqg4vNeuMDiORGKYmwd7njGqodCyDpElbAChiFQrFcCVQlaipQiUiBp3AlIpINjl24zGc7rGxbuxVQt0ryuJQkx/2nts5x3I8q8eLVbX4hpFZ5gFXni1K/Ux9c3dxMK1NEJLdRuBIRuUlxiSks2nqCOX8dZdWeM9gNK642C1EtKtG7sbpVksekJsP+lY77UG3/CRIuXN3mW9xxU9+qHaBkHeypqZxfsECdKhGR/1C4EhHJgpRUO7/tOcPcv46yaOtJLienOreV97PzYY9GhIcUNrFCkSxITYGDvzlW+dv+I1w+d3WbTzEIb+cIVKF3gvVffyxITU1/LBERUbgSEbkRwzD4+2gMs/86wo+bjnEm9uqNUMsU8aZ9ZAhtqhdl69poKhT1MbFSkUywp8LB1Y4O1bYfIP7M1W1eRRyBqtqDUKo+WG3m1SkikgcpXImIXMPhc/HM23iUOX8dZe/pOOd4gLcbbSOK0+GOktQoWQiLxUJycjJbTaxV5Lrsdji81tGh2jYP4k5d3eYZAOEPOJZOL90QbPrVQETkZulfUBGRf7kYn8z8LceZ+9dR1h+4eoqUu4uVFuHFePCOEBpXCMJV11NJbme3w5Hf/+lQzYNLx69u8/CHKm0dHaqwxmBzNa1MEZH8ROFKRAq8xJRUVuw4zdy/jrJ8xymSUu2A41r9+mUD6VAzhNbVgvH10C+gkssZBhzd8E+Hai7EHL26zb0QVLnfcQ1V2WYKVCIiOUDhSkQKJLvdYMOh88z+8yjzNx8jJiHFua1ysC8daobwQGQJihfyNLFKkUwwDDj2l6NDtXUeXDx0dZubL1Ru4whU5e4CF3fz6hQRKQAUrkSkQNlzKpa5fx1l7sajHDl/2TlezM+d9pEhtK8ZQpXifiZWKJIJhgHHNznuQ7V1Dlw4eHWbmw9UuvefQHUPuHqYV6eISAGjcCUi+d7pS4n8uOkYczceZfORqzdD9XF3oXW1YB6sGUK9soHYrLpnj+RihgEn/74aqM7tu7rN1QsqtnYEqgotwFUdVxERMyhciUi+FJ+UwpJtJ5nz11F+3X2GVLsBgM1qoWnFIDrUDKF5lWJ4ummpacnlTm67GqjO7r467uIJFVv+E6hagZuXeTWKiAigcCUi+Uiq3WD13jPM+fMoC7eeID7p6o1OI0P96VAzhPsjihPoo+tOJJc7veufa6jmwOkdV8dt7o7OVNUOjk6Vu+6rJiKSmyhciUieZhgGW4/FMPevo/yw6RinLiU6t5UK8KJ9zRA61AyhTBFvE6sUyYQze652qE79665pNjco39xxH6pKrcHd17waRUTkuhSuRCRPOnrhMvM2HmXuX0fZdTLWOe7v5cr9EcXpULMkd5Tyx2LRdVSSi53bdzVQndhyddzqCuXudtyHqtK94FHIvBpFRCTTFK5EJM+4eDmZhX8fZ85fR1m77+oNft1crDSvUpQONUvStGIQbi66wa/kYucPXg1UxzdeHbe6OO4/VfVBqHwfeBY2q0IREblJClcikqslpdj5Zddp5vx1hKXbT5GUYnduu7NswD83+C1OIU/dEFVysQuHHTf13TrHcZPfKyw2KNPEcQ1VlbbgFWBaiSIicusUrkQk1zEMgz8PnWfOX0f5afNxLsQnO7dVKOpDhztCaBcZQoi/lpuWXCzmGGyd6whUR9ZfHbdYIazRP4HqAfAuYlqJIiKSvRSuRCTX2H8mjjl/Oa6jOnQu3jke5OtOuxol6HBHCOHF/XQdleRel07AtnmOQHVozb82WKB0Q6jaHsLbgU9RsyoUEZEcpHAlIqY6G5vIT5sd11FtPHzBOe7lZqN11WA63BFCg3JFdINfyb1iT/0TqObCwVWAcXVbqfqODlV4O/ANNqtCERG5TRSuROS2u5yUytLtjhv8rtx1mpR/3eC3cYUidKgZQovwYni56Z8oyaXizsD2HxwdqgO/gXH1WkBK1r0aqAqFmFejiIjcdvrNRURui1S7wdp9Z5nz11EW/n2C2MQU57aIkoVoHxlC2xolCPLVDX4ll4o/B9t/dASq/SvBuHqTakJqOVb5C28H/qHm1SgiIqZSuBKRHLX9uOMGv/M2HuNETIJzPMTfkw41Q2hfM4TyRX1MrFDkOi6fhx3zHYFqXzTYr/5RgOKRjvtQhbeHwqVNKlBERHIThSsRyXbHL17mh43HmPPXUXacuOQc9/NwoU1ECR68I4RapQpj1XVUktskXoJD6+Dgb3BgFRz7M22gCq7u6FBVbQ8BZU0rU0REcieFKxHJFpcSkln49wnm/HWUNfvOYvxzTb+bzcrdlYvSvmYId1UOwt3FZm6hIv92+TwcWuu4burgKji+Ke31UwBFq0K1DhDeAYqUN6dOERHJExSuROSmJafaWbnrNHP+OsqSbSdJ/NcNfuuGBdC+ZghtqhenkJdu8Cu5RNxZR4g6uMrRmTr5N2lW9wMoHAalG0HpBhDW0PFYREQkExSuRCRLDMNg4+ELzP3rKD9uPs65uP9v787DmyrzPYB/s7TpvtOmLd2AAkKhFApYYERHpAgKqBeREcVlvBdH7oiMoKi44MwFFxgUl47zIIMzog4q1RFFEQEVKlAoO1aQLtAV6JJutGnPe/9Ik+ZkaSmkPV2+n+fJU3LOm5P3/Cjh/eXdGizn+vXxxu1Jpg1+o4K8FKwlUbOq4pZEKm83cP5n+zLB8aYkKqb5wRX+iIjoCjG5IqLLknexBulZhUg/VICcCzWW4yE+7rg1MQK3J/VFQiQ3+CWFVZ5rTqSa50yV/WpfJnRIcyI1zvTTN6zz60lERD0Skysicqq8pgFfHC3C5oPncDC/wnLc002D1KFhmJkUiQkDQqDVqJWrJPVeQgDluYi++D00//kSyN8DVOTbFFKZFqGIGW/qnYoeB3gHK1JdIiLq+ZhcEZHMJWMTtp8sxeasAuzMLrVs8KtWAeMHmDb4TR2qh7eOHx/UyYQALp5uWXwibw/cDAVIAgBzTqXSABEjmnulJgDR1wKeAYpVmYiIehe2jogIkiSwN6cM6VkF+PJoEaqsNvgdGuGH25IiMT0xAqF+HgrWknodSTLNkcrb3ZxQ7QFqSmVFhNoNZZ6xCEicBk2/3wBRYwGdr0IVJiKi3o7JFVEv9ktJFTZnFeCzrAIUVrZs8Bvh74EZSZG4LSkSA8PYUKVOIjWZVu8zLz6RtweoK5OX0eiAqDGW+VKN+hH4cdtOTL1hKjRuXJWSiIiUxeSKqJcpNVzC54cL8enBApwoMliO+3poMW1YOGYmRWJMbBA3+KWO19Ro2lfKvPhE/k9AfaW8jJuXqTfKPGcqchSg1bWcNxo7t85EREStYHJF1AvU1Ddi67FipB8qwO7TF9A8jQpuGhWuHxSK25Ii8dvBofBw4wa/1IEaG4DCgy1zps7uAxqq5WV0fqZ5UuY5UxEjAA17pIiIqHtgckXUQzU2SfjxTCnSswrwzfES1BmbLOdGxQRiZlIkbhkWjkBvdwVrST2asQ44l9myae/Z/UBjnbyMR0DLsuix4wH9cEDNJJ+IiLonJldEPYgQAkcLKvFpjhrLX/keF602+I0L8cZtSZGYMSICMcHeCtaSeqyGGuDs3pY5UwUHgKYGeRmvkOZEaoIpqQodAqi5lD8REfUMTK6IeoCzZbX47FABNmcV4NfzNQDUABoQ7G3a4HdmUiQS+/pzg19yrUsG0zwp85ypokOA1Cgv46M39UjFjDclVCEDAf4eEhFRD8Xkiqibqqw1YsvRImzOOof9ueWW4zqtGkP9GzH/5lG44Ro93LjBL7lKbRmQn9HSM1V8BBCSvIx/dMsQv5jxQFA/JlNERNRrMLki6kbqG5uw42fTBr87fj6PhiZTw1alAsb1D8bMEZG4cVAIfvjuG9wwqA8TK7o61edb5kvl7QFKjgMQ8jJB/VoWn4gdDwREK1JVIiKiroDJFVEXJ0kCmXnl2JxVgC1HCmG41DLs6ppwP9yWFIHpiZHQ+5s2+DVyaWq6UoYi+Ya9F7Lty4QMspozNQ7wi+j8ehIREXVRTK6IuqjTpdVIzypA+qECnCtvWWFN7+eBGUkRuC0pEoP1fgrWkLq9ivzmIX7NyVTZGfsyoUNbhvjFjAd8+nR+PYmIiLqJLpFcvfnmm3jllVdQXFyMxMRErF27FmPGjHFaftOmTVi2bBlyc3MRHx+Pl156CVOnTrWcv++++7BhwwbZa1JTU7F169YOuwciVzhfVY//HC7E5qwCHC1o2UzVR6fFzQl63JYUibH9gqHhBr/UXkKYkifzEL/c3UBlvryMSm1aCt28YW90CuAVpEx9iYiIuiHFk6uPPvoIixYtQlpaGsaOHYs1a9YgNTUV2dnZCA0NtSu/Z88ezJkzBytWrMAtt9yCjRs3YubMmTh48CASEhIs5aZMmYL169dbnut0uk65H6L2qm1oxDfHS7A5qwA/nr6ApuYdfrVqFSYO7IOZSZG4aUgYN/il9hECuPBLyxC/vN1AVZG8jFoLRCS1zJmKHgt4+CtTXyIioh5A8eRq9erVeOihh3D//fcDANLS0rBlyxa8++67ePLJJ+3Kv/baa5gyZQoWL14MAHjxxRexbds2vPHGG0hLS7OU0+l00Ov1nXMTRO3UJAnsPn0B6VkF2Hq8GLUNLRv8JkUH4LakSEwbFo5gH34pQJdJkoDSE/I5U7UX5GU07kDkqJaeqb5jAJ2PMvUlIiLqgRRNrhoaGnDgwAEsXbrUckytVmPSpEnIyMhw+JqMjAwsWrRIdiw1NRXp6emyYzt37kRoaCgCAwPx29/+Fn/+858RHBzs8Jr19fWor6+3PDcYDABMCwNwcYArZ44dY2hKprJLqpCZV4EDeeXYm1Mu2+A3OsgTMxLDMT0xHLFWG/xeSewYd2V0etylJqDkKNT5e6DKz4Dq7E9Q1ZXLigitB0RkMkT0OIiYcRARowA3T9uKd059Owh/35XBuCuDcVcG466MrhT39tRBJYQQbRfrGIWFhYiMjMSePXuQkpJiOb5kyRLs2rULe/futXuNu7s7NmzYgDlz5liOvfXWW3jhhRdQUlICAPjwww/h5eWFuLg4/Prrr3jqqafg4+ODjIwMaDT2Q6uef/55vPDCC3bHN27cCC8vL1fcKvUyDU1Afg1wxqDCmSoVcqpUuNQknyflrRVIChZI7iMh1odbAVHrVKIRAbW5CK7+GcHV2Qiu/gVuUp2sTKNahzLveFzwGYyLPoNR4RUHSe2mUI2JiIh6htraWvzud79DZWUl/PxaX0xM8WGBHeGuu+6y/HnYsGEYPnw4+vfvj507d+LGG2+0K7906VJZb5jBYEBUVBQmT57cZgDJOaPRiG3btuGmm26Cm1vPbuBV1Bpx8GwFMnPLcSC/AkcLKmFskn9v4a3TYGRUAJJjAjEqJgBJUQFw17p+H6reFPeuxOVxb6yHqvAgVPl7TI9z+6Ey1sqKCJ0fRNRYU89U9HiI8OEIVGsRCCD+6mvQLfD3XRmMuzIYd2Uw7sroSnE3j2q7HIomVyEhIdBoNJYeJ7OSkhKn86X0en27ygNAv379EBISgtOnTztMrnQ6ncMFL9zc3BT/y+wJemIcCyrqkJlbhn05ZcjMLUd2SZVdmT6+OoyJDUJybCBGxwbhmnC/Tl3lryfGvTu44rg31ALn9res5nduP9B4SV7GM7BlSfTY8VCFJUCl5kInAH/flcK4K4NxVwbjroyuEPf2vL+iyZW7uztGjRqF7du3Y+bMmQAASZKwfft2LFiwwOFrUlJSsH37dixcuNBybNu2bbJhhbbOnTuHixcvIjw83JXVp15CkgROlVZjf24Z9ueakqmCijq7cv1CvDG6OZkaExeE6CAvqDjWj5yprwbO/tS8z9QeoOAAINmM6fbu05xITTD97DMYULu+t5OIiIhcQ/FhgYsWLcK8efOQnJyMMWPGYM2aNaipqbGsHnjvvfciMjISK1asAAA8+uijmDhxIlatWoVp06bhww8/RGZmJt555x0AQHV1NV544QXccccd0Ov1+PXXX7FkyRIMGDAAqampit0ndR8NjRKOFlSakqmcMmTmlaOyTt7o1ahVGBrhh9GxQRgdG4jk2CCEcGU/ak1dBZD/U8uGvYWHANEkL+Mb0bJhb+wEIHgAJ+MRERF1I4onV7Nnz8b58+fx7LPPori4GCNGjMDWrVsRFhYGAMjPz4fa6pvacePGYePGjXjmmWfw1FNPIT4+Hunp6ZY9rjQaDY4cOYINGzagoqICERERmDx5Ml588UXudUUOVV0y4mB+BfbnmHqmDp2tQH2jJCvj6aZBUnRAczIVhKToAHjrFP/nQ11ZbVnzsui7TT+LjwKwWT8oINq0v5Q5oQqMZTJFRETUjXWJ1uGCBQucDgPcuXOn3bFZs2Zh1qxZDst7enri66+/dmX1qIcpNVzC/txyyzC/k0UGSDZt3iBvdyTHmIb3JccGYWiEH9w0HI5FTggBGAoRUb4X6q27gLMZpj2nbAX1b06kJpg27g2I6vy6EhERUYfpEskVUUcRQuDMhZrmxSfKkZlXhryLtXblooO8THOlYk3JVP8+3pwvRY5JTcDFX4HiI0DRYdPP4qNwq72I0QCQa1W2z+CWDXtjxgO+3NiciIioJ2NyRT1KY5OE44UG2eIT1pv1AqZRV4P1fhjTPFdqdGwQ9P4eCtWYujTjJVMPVPERoOiI6WfJccBon6ALlQaVHpHwTZgCTdxvTD1T3iEKVJqIiIiUwuSKurXahkYcyq/AvuZE6mB+OWob5IsEuGvVGNE3AKPjTMnUqJhA+HlwKVWyUVdhmhdlnUidz7ZfdAIA3LyAsAQgfDigHwboh6MxKB67vvkOUydPhYZL9RIREfVKTK6oW7lYXY/MvHLT4hN55TheUIlGmwlTfh5aS4/U6NhADOvrD52WewFRMyGAqqKWBMo8tK8i33F5r2BA35xEhSea/hzcH7DdX8podPx6IiIi6jWYXFGXJYTA2bI6yxC//bll+PV8jV25cH8PUyIVZ0qmBob6Qt2Jm/VSFyZJQNmvLQlUkWl+FGovOC4fEN2cSA1v7pUaDvhFcAU/IiIiuixMrqjLaJIEfi42IDO3vHmYXxlKDPV25QaG+SA5Nqh58YlA9A30UqC21OU01pvmR1l6pMzzo+wTcqg0QJ9BVj1SzT89Azu/3kRERNRjMLkixVwyNuHw2Qpk5pVjX04ZDuaVo6q+UVbGTaNCQqS/ZRW/5JhABHq7K1Rj6jIuVZp6oKwTqQvZgNRoX1brCegT5IlU6BDAzbPz601EREQ9GpMr6jSVtUYcyG9eEj23DEfOVaKhSb5Zr7e7BiNjWpZEHxEVAE93zpfqtYQAqoqthvQdNiVV5bmOy3sGtQznMw/tCx5gPz+KiIiIqAMwuaIOU1R5CQcuqLD3PydwML8S2SVVEDab9Yb46DAmLrB58YkgDNb7QsvNensnSQLKzpgSKHOPVPFRoOa84/L+0VaJVHOPlF8k50cRERGRYphckUtIksDp89WmhSdyyrA/txwFFXUANADOWcr1C/FGcmxLMhUT7MXNenujxnqg9KR82fPiY07mR6mBkEGyZc+hHwZ4BXV+vYmIiIhaweSKrkhDo4SjBZXING/Wm1eOilr5UtRqFRDpJXDj8Bhc2z8Eo2KC0MdXp1CNSTGXDDb7Rx0Fzp90Pj8qbKhVIpUIhHF+FBEREXUPTK7oslRdMiIrvwL7c8uwL6cMh85WoL5RPl/Kw02NpKhAy5LoCeE++H77N5g6dTDcuKlq71BV3DI3ypxIlec4LusZKF/yXN88P0rDjyUiIiLqntiKIYdKqy6ZlkTPKUNmXhlOFBpgs1cvAr3cZEuiJ0T6w81qvpSRm6r2XJJkSpps94+qKXVc3j/KKpFqHtrn35fzo4iIiKhHYXJFEEIg50KNbH+p3Iu1duWigjwxOqZls97+fXw4X6o3aGwwDeOT7R91DGioti+rUgMhA232jxrO+VFERETUKzC56oUamyScKDJgf2459jf3TF2obpCVUamAwXo/jLZafELv76FQjanTXDKYEifrROr8z4DkoBdS62GaH2VJpBJN+0e5c1NnIiIi6p2YXPUCdQ1NyMovNyVTuWU4mF+O2oYmWRl3rRoj+gaYVvKLC8LI6ED4e3KeVI9WVdKcQB1uWfa87Izjsh4BDvaPiuf8KCIiIiIrbBn1QGU1DZZV/PbnluNYQSUabSZM+XpokRxjSqTGxAYhIdIfHm7caLVHMs+Pki17fhSoLnFc3q+v/f5R/lGcH0VERETUBiZX3ZwQAufK65oTKVMydbrUfi6M3s+jOZEKRHJsEAaF+UKtZmO5x2lsAIqPIfri91B//QNQesy0f1RDlX1ZldrU+yTbP2o44B3c+fUmIiIi6gGYXHUzTZJAdnEVMvNMS6Jn5paj2HDJrlx8qI9pJb+4QCTHBKFvoCcXn+hp6qtMiZN1j1TpSbhJRiQBQL5VWa2HaT6UbP+ooZwfRURERORCTK66uEvGJhw5V2npmTqQV46qS/LNV7VqFYb19bcsPDEqJhBB3u4K1Zg6RHWp/f5RZWcACLuiwsMfF7QRCBp6PTQRI0y9USEDOT+KiIiIqIOxtdXF3bhqFwoq6mTHvN01GBnTsorfiKgAeLpzvlSPIETz/lFH5PtHVRc7Lu8Xabd/VKN3OPZ89RWmTpoKDTdvJiIiIuo0TK66uGGR/qhvlCzD+8bEBWGw3hdaq816qZtqMpqWObdeZKL4KFBvcFBYBYTE2+8f5R1iX5SbNxMREREpgslVF/fqnYnwdtdwvlR31dgAVJ4FynNNj4o808+yM8D5bKCpwf41Gh0QNkS+f1TYUMDdu5MrT0RERETtweSqi/PR8a+oSxMCqL3YkjzJHnmA4RwgJOev1/m39EKZh/aFDAQ0HM5HRERE1N2w5U7UFuMloCJf3vNk/WiwX/peRusJBMbaPGKA0GuAgBjuH0VERETUQzC5IhLCtKGuubfJNnmqKmzjAirAL8JBAhVrSp58QplAEREREfUCTK6od2ioMSVOjnqeyvOAxrrWX+/uAwTGmXqcLMlT83P/KMDNo6PvgIiIiIi6OCZX1DNIElBV5GTuUy5QU9r661VqwL+vfa9TYJzpz15B7H0iIiIiolYxuaLu45LBSc9TrmlOlKOV96x5BMjnPFknUv5RXESCiIiIiK4KkyvqOpoaAUOB896nurLWX6/WAgHRzT1OsfYLSHgGdmTtiYiIiKiXY3JFnauu3HnyVHkOkBpbf71XsOOFIwJjAd8IQMNfaSIiIiJSBlui5FpWm+aqL/yKIQU7oPlkE1DZvJT5pcrWX69xd9LzFGvqfdL5dvQdEBERERFdESZX1D52m+bmWC1hLt80VwMgHgBs15LwCXPe++SjB9TqzrkXIiIiIiIXYnJF9qw3zbUsGGG1kMRlbporBUQjp0IgNul6aIL7m3qeAqIBd++OvgMiIiIiok7H5Ko3km2am2vV85R75ZvmWg/la940t8loxLEvv0T06KnQuHElPiIiIiLq2Zhc9VTmTXMd9Txd8aa5sS3LlnPTXCIiIiIiGSZX3ZUkmXqYHPU8tWfTXLvFI7hpLhERERHRlWBy1dWVHAfKzlzFprlOVt7jprlERERERC7F5Kqr+/gB4PzPjs+ptaYkydmy5dw0l4iIiIio0zC56urCR5hW1+OmuUREREREXRpb5l3d7X9TugZERERERHQZmFwREREREVkRQqBJNEEIgfqmejSIBtQaa6ERGstxCRIkIZn+LCQImF5jfUyCJLuW9TFJSLKHQMsxy2tsjkmQ5NeyeZ1tWdm1HNTZXJ826+zsfdo45qjO1vWQlbN5b0mSoK3RYiqmKv3r0C5MroiIiIiuQKuNZZtjAgJNkuPGsrPGqaWR2XyswdiAnMYc7C/ZD5Va5bixjNYbrI7qLGv4wr7ODu+lnQ3vK2ngO7uP1uLc3kTFWULiyPJNyzv5N4xC1CFKV6HdmFwRERF1M9aNSXPj27qRbD7W1nNn12irrNFoxOGGw5ByJEsj3/p1rV271fo1Jx8OryG1NLibpCZLw7q1c5IkWRrV5nJOG9lW17icb9bNDXglrNu+TpH3JXsqqKBWqaFSqaCGGmpVy0OlMp1Tw/RnjUpjd8y6vO0xFUyvsb6W+f2sr2X93ub3sS5rLqdRaSzHWq2zzbXaU2dn9yE77+S9bessmgSy9mUp/VfcbkyuiIjoigkhZI1hWePYumErOW+wO2uMX05i0NDYYGnkq9Vqp4lChz1v/lbfWQLgMBZOYmOdDDhMDqxjqFCj3tamjE1KV6HbuJpGtnXDs6a6Bn6+flCr1a02jNtsLFsdM7+n+ZqOGviOGsuyBr5No922gW+5lvoqGvi2dW6jgd9WUtJanK2fNzU2Yds32zAldQp07jq7ulDHMBqNuKC9oHQ12o3JFRF1K+bGvO0QkLaGuViPg7cdGmP7zbTtN9utDS0xP4yNpm/yRY6AWqN2mkxcTU9Ce3oW2vv8cnsebBMKZ8NnOhsb+fbMDUNzI9f6YXvM/Nzc8HR23rrxWX6xHH1C+kCr0dq9ztF1rvY92/Pc0TlZ/a6wge+0N8BZw9/FDXCj0Ygvv/wSU6dOhZsb96rsLEaVEe4qd3hoPeDGPUKpDUyuqFewbpA7muTp6LijRrltA95Ro978OkcNc9v3bW28ve3Y/Ms5J8HUyD9VdwpnDp+BSqWyq6NdktFGXZ0lMLbj7Z2esxpuY5f4OBiK4ywu1vXtytjIt2fdyDQ3ajUqDdTqlmEqds/VThrezd+uWxq6QoWysjKEhoRCq9FeccO7reetJQ6tJS+Xk3RYylv1RFg/tzunto+FXcyg6tBv1C2N/N+ykU9EZK1LJFdvvvkmXnnlFRQXFyMxMRFr167FmDFjnJbftGkTli1bhtzcXMTHx+Oll17C1KktK4kIIfDcc8/h73//OyoqKjB+/Hi8/fbbiI+P74zbcal9RftQ2VDpsIFt2+C3Gy/upJHvKBFobWJqWxNBnU2SbZKaUFJdgi+++wJCJRxe31lPgfn6DhvjDu7P6WTcNian9mQ7j+9UugqKs/1GWfaNtFUj1NGQENtvtmXnbMbA2zbyNRpNS6O4tYTCupHspNHsygShrYTBZcmGWiOLORv5RETUWyieXH300UdYtGgR0tLSMHbsWKxZswapqanIzs5GaGioXfk9e/Zgzpw5WLFiBW655RZs3LgRM2fOxMGDB5GQkAAAePnll/H6669jw4YNiIuLw7Jly5CamooTJ07Aw8Ojs2/xqqw+sBrHLx5XuhpX5VTxKaWr0C6OJqe2Or7b0Rh6ldpuyIl1Q14FlcPx8rbDUWyv2dr7mc8JIXA27yzi4uJM3+RbjaOX1cX8Hq0kEY7qZn3Oduy63f06OOeoDo7OyWJs+4CDITkO6tCZ2MgnIiIixZOr1atX46GHHsL9998PAEhLS8OWLVvw7rvv4sknn7Qr/9prr2HKlClYvHgxAODFF1/Etm3b8MYbbyAtLQ1CCKxZswbPPPMMZsyYAQB47733EBYWhvT0dNx1111216yvr0d9fb3lucFgAGBqLBmNRpffc3sMDBgIN7Wbw4ajw8ang0a/o8a9dQPZ6WRRq0a8w/d00Mi3vr7UJOHkiZMYljAMblo3u/rYNaptxrFb33Nrk1svd1JwawlET5qcajQase38Ntw0/Kbe08gXzQ8Azf23nV4F82eF0p8ZvQ3jrgzGXRmMuzIYd2V0pbi3pw4qIYRiExgaGhrg5eWFjz/+GDNnzrQcnzdvHioqKvDZZ5/ZvSY6OhqLFi3CwoULLceee+45pKen4/Dhwzhz5gz69++PrKwsjBgxwlJm4sSJGDFiBF577TW7az7//PN44YUX7I5v3LgRXl5eV3WPRERERETUfdXW1uJ3v/sdKisr4efn12pZRXuuLly4gKamJoSFhcmOh4WF4eeff3b4muLiYofli4uLLefNx5yVsbV06VIsWrTI8txgMCAqKgqTJ09uM4DknNFoxLZt23DTTb2oB6ULYNyVwbgrg3FXBuOuDMZdGYy7MrpS3M2j2i6H4sMCuwKdTgedTmd33M3NTfG/zJ6AcVQG464Mxl0ZjLsyGHdlMO7KYNyV0RXi3p73V3dgPdoUEhICjUaDkpIS2fGSkhLo9XqHr9Hr9a2WN/9szzWJiIiIiIiulqLJlbu7O0aNGoXt27dbjkmShO3btyMlJcXha1JSUmTlAWDbtm2W8nFxcdDr9bIyBoMBe/fudXpNIiIiIiKiq6X4sMBFixZh3rx5SE5OxpgxY7BmzRrU1NRYVg+89957ERkZiRUrVgAAHn30UUycOBGrVq3CtGnT8OGHHyIzMxPvvPMOAEClUmHhwoX485//jPj4eMtS7BEREbJFM4iIiIiIiFxJ8eRq9uzZOH/+PJ599lkUFxdjxIgR2Lp1q2VBivz8fKjVLR1s48aNw8aNG/HMM8/gqaeeQnx8PNLT0y17XAHAkiVLUFNTg//+7/9GRUUFJkyYgK1bt3a7Pa6IiIiIiKj7UDy5AoAFCxZgwYIFDs/t3LnT7tisWbMwa9Ysp9dTqVRYvnw5li9f7qoqEhERERERtUrROVdEREREREQ9BZMrIiIiIiIiF2ByRURERERE5AJMroiIiIiIiFyAyRUREREREZELMLkiIiIiIiJyASZXRERERERELsDkioiIiIiIyAWYXBEREREREbkAkysiIiIiIiIXYHJFRERERETkAlqlK9AVCSEAAAaDQeGadG9GoxG1tbUwGAxwc3NTujq9BuOuDMZdGYy7Mhh3ZTDuymDcldGV4m7OCcw5QmuYXDlQVVUFAIiKilK4JkRERERE1BVUVVXB39+/1TIqcTkpWC8jSRIKCwvh6+sLlUqldHW6LYPBgKioKJw9exZ+fn5KV6fXYNyVwbgrg3FXBuOuDMZdGYy7MrpS3IUQqKqqQkREBNTq1mdVsefKAbVajb59+ypdjR7Dz89P8X8UvRHjrgzGXRmMuzIYd2Uw7spg3JXRVeLeVo+VGRe0ICIiIiIicgEmV0RERERERC7A5Io6jE6nw3PPPQedTqd0VXoVxl0ZjLsyGHdlMO7KYNyVwbgro7vGnQtaEBERERERuQB7roiIiIiIiFyAyRUREREREZELMLkiIiIiIiJyASZXRERERERELsDkitqtoKAAc+fORXBwMDw9PTFs2DBkZmZazgsh8OyzzyI8PByenp6YNGkSTp06JbtGWVkZ7r77bvj5+SEgIAAPPvggqqurO/tWuo2mpiYsW7YMcXFx8PT0RP/+/fHiiy/Cej0axv3qff/997j11lsREREBlUqF9PR02XlXxfjIkSP4zW9+Aw8PD0RFReHll1/u6Fvr0lqLu9FoxBNPPIFhw4bB29sbERERuPfee1FYWCi7BuPefm39vlubP38+VCoV1qxZIzvOuLff5cT95MmTmD59Ovz9/eHt7Y3Ro0cjPz/fcv7SpUt45JFHEBwcDB8fH9xxxx0oKSmRXSM/Px/Tpk2Dl5cXQkNDsXjxYjQ2Nnb07XVZbcW9uroaCxYsQN++feHp6YkhQ4YgLS1NVoZxb58VK1Zg9OjR8PX1RWhoKGbOnIns7GxZGVfFdOfOnRg5ciR0Oh0GDBiAf/zjHx19e84JonYoKysTMTEx4r777hN79+4VZ86cEV9//bU4ffq0pczKlSuFv7+/SE9PF4cPHxbTp08XcXFxoq6uzlJmypQpIjExUfz000/ihx9+EAMGDBBz5sxR4pa6hb/85S8iODhYfPHFFyInJ0ds2rRJ+Pj4iNdee81ShnG/el9++aV4+umnxaeffioAiM2bN8vOuyLGlZWVIiwsTNx9993i2LFj4oMPPhCenp7ib3/7W2fdZpfTWtwrKirEpEmTxEcffSR+/vlnkZGRIcaMGSNGjRoluwbj3n5t/b6bffrppyIxMVFERESIv/71r7JzjHv7tRX306dPi6CgILF48WJx8OBBcfr0afHZZ5+JkpISS5n58+eLqKgosX37dpGZmSmuvfZaMW7cOMv5xsZGkZCQICZNmiSysrLEl19+KUJCQsTSpUs76za7nLbi/tBDD4n+/fuLHTt2iJycHPG3v/1NaDQa8dlnn1nKMO7tk5qaKtavXy+OHTsmDh06JKZOnSqio6NFdXW1pYwrYnrmzBnh5eUlFi1aJE6cOCHWrl0rNBqN2Lp1a6ferxmTK2qXJ554QkyYMMHpeUmShF6vF6+88orlWEVFhdDpdOKDDz4QQghx4sQJAUDs37/fUuarr74SKpVKFBQUdFzlu7Fp06aJBx54QHbs9ttvF3fffbcQgnHvCLb/+boqxm+99ZYIDAwU9fX1ljJPPPGEGDRoUAffUffQWiPfbN++fQKAyMvLE0Iw7q7gLO7nzp0TkZGR4tixYyImJkaWXDHuV89R3GfPni3mzp3r9DUVFRXCzc1NbNq0yXLs5MmTAoDIyMgQQpgSCbVaLYqLiy1l3n77beHn5yf7u+itHMV96NChYvny5bJjI0eOFE8//bQQgnF3hdLSUgFA7Nq1SwjhupguWbJEDB06VPZes2fPFqmpqR19Sw5xWCC1y+eff47k5GTMmjULoaGhSEpKwt///nfL+ZycHBQXF2PSpEmWY/7+/hg7diwyMjIAABkZGQgICEBycrKlzKRJk6BWq7F3797Ou5luZNy4cdi+fTt++eUXAMDhw4fx448/4uabbwbAuHcGV8U4IyMD1113Hdzd3S1lUlNTkZ2djfLy8k66m+6tsrISKpUKAQEBABj3jiJJEu655x4sXrwYQ4cOtTvPuLueJEnYsmULBg4ciNTUVISGhmLs2LGyIWwHDhyA0WiUfRYNHjwY0dHRss+iYcOGISwszFImNTUVBoMBx48f77T76U7GjRuHzz//HAUFBRBCYMeOHfjll18wefJkAIy7K1RWVgIAgoKCALguphkZGbJrmMuYr9HZmFxRu5w5cwZvv/024uPj8fXXX+Phhx/GH//4R2zYsAEAUFxcDACyfwTm5+ZzxcXFCA0NlZ3XarUICgqylCG5J598EnfddRcGDx4MNzc3JCUlYeHChbj77rsBMO6dwVUxLi4udngN6/cg5y5duoQnnngCc+bMgZ+fHwDGvaO89NJL0Gq1+OMf/+jwPOPueqWlpaiursbKlSsxZcoUfPPNN7jttttw++23Y9euXQBMcXN3d7d8uWBm+1nEuLfP2rVrMWTIEPTt2xfu7u6YMmUK3nzzTVx33XUAGPerJUkSFi5ciPHjxyMhIQGA62LqrIzBYEBdXV1H3E6rtJ3+jtStSZKE5ORk/N///R8AICkpCceOHUNaWhrmzZuncO16rn//+994//33sXHjRgwdOhSHDh3CwoULERERwbhTr2E0GnHnnXdCCIG3335b6er0aAcOHMBrr72GgwcPQqVSKV2dXkOSJADAjBkz8NhjjwEARowYgT179iAtLQ0TJ05Usno92tq1a/HTTz/h888/R0xMDL7//ns88sgjiIiIsOsVofZ75JFHcOzYMfz4449KV6XDseeK2iU8PBxDhgyRHbvmmmssqxjp9XoAsFvppaSkxHJOr9ejtLRUdr6xsRFlZWWWMiS3ePFiS+/VsGHDcM899+Cxxx7DihUrADDuncFVMdbr9Q6vYf0eZM+cWOXl5WHbtm2WXiuAce8IP/zwA0pLSxEdHQ2tVgutVou8vDz86U9/QmxsLADGvSOEhIRAq9W2+f9sQ0MDKioqZGVsP4sY98tXV1eHp556CqtXr8att96K4cOHY8GCBZg9ezZeffVVAIz71ViwYAG++OIL7NixA3379rUcd1VMnZXx8/ODp6enq2+nTUyuqF3Gjx9vt4zmL7/8gpiYGABAXFwc9Ho9tm/fbjlvMBiwd+9epKSkAABSUlJQUVGBAwcOWMp89913kCQJY8eO7YS76H5qa2uhVsv/uWo0Gsu3nIx7x3NVjFNSUvD999/DaDRaymzbtg2DBg1CYGBgJ91N92JOrE6dOoVvv/0WwcHBsvOMu+vdc889OHLkCA4dOmR5REREYPHixfj6668BMO4dwd3dHaNHj271/9lRo0bBzc1N9lmUnZ2N/Px82WfR0aNHZcmv+UsJ28SNTJ8xRqOx1f9nGff2E0JgwYIF2Lx5M7777jvExcXJzrsqpikpKbJrmMuYr9HpFFlGg7qtffv2Ca1WK/7yl7+IU6dOiffff194eXmJf/3rX5YyK1euFAEBAeKzzz4TR44cETNmzHC4XHVSUpLYu3ev+PHHH0V8fDyXBG/FvHnzRGRkpGUp9k8//VSEhISIJUuWWMow7levqqpKZGVliaysLAFArF69WmRlZVlWpXNFjCsqKkRYWJi45557xLFjx8SHH34ovLy8evXS1K3FvaGhQUyfPl307dtXHDp0SBQVFVke1qtvMe7t19bvuy3b1QKFYNyvRFtx//TTT4Wbm5t45513xKlTpyzLSv/www+Wa8yfP19ER0eL7777TmRmZoqUlBSRkpJiOW9evnry5Mni0KFDYuvWraJPnz69dklwIdqO+8SJE8XQoUPFjh07xJkzZ8T69euFh4eHeOuttyzXYNzb5+GHHxb+/v5i586dss/u2tpaSxlXxNS8FPvixYvFyZMnxZtvvsml2Kl7+c9//iMSEhKETqcTgwcPFu+8847svCRJYtmyZSIsLEzodDpx4403iuzsbFmZixcvijlz5ggfHx/h5+cn7r//flFVVdWZt9GtGAwG8eijj4ro6Gjh4eEh+vXrJ55++mlZ45Jxv3o7duwQAOwe8+bNE0K4LsaHDx8WEyZMEDqdTkRGRoqVK1d21i12Sa3FPScnx+E5AGLHjh2WazDu7dfW77stR8kV495+lxP3devWiQEDBggPDw+RmJgo0tPTZdeoq6sTf/jDH0RgYKDw8vISt912mygqKpKVyc3NFTfffLPw9PQUISEh4k9/+pMwGo2dcYtdUltxLyoqEvfdd5+IiIgQHh4eYtCgQWLVqlVCkiTLNRj39nH22b1+/XpLGVfFdMeOHWLEiBHC3d1d9OvXT/YenU0lhBAd1StGRERERETUW3DOFRERERERkQswuSIiIiIiInIBJldEREREREQuwOSKiIiIiIjIBZhcERERERERuQCTKyIiIiIiIhdgckVEREREROQCTK6IiIiIiIhcgMkVERFRB1KpVEhPT1e6GkRE1AmYXBERUZeVkZEBjUaDadOmKV0Vh86fP4+HH34Y0dHR0Ol00Ov1SE1Nxe7duy1lioqKcPPNNytYSyIi6ixapStARETkzLp16/C///u/WLduHQoLCxEREeG0rBACTU1N0Grl/7U1NDTA3d29Q+p3xx13oKGhARs2bEC/fv1QUlKC7du34+LFi5Yyer2+Q96biIi6HvZcERFRl1RdXY2PPvoIDz/8MKZNm4Z//OMfsvM7d+6ESqXCV199hVGjRkGn0+HHH3/E9ddfjwULFmDhwoUICQlBamoqAGD16tUYNmwYvL29ERUVhT/84Q+orq4GANTU1MDPzw8ff/yx7D3S09Ph7e2Nqqoqu/pVVFTghx9+wEsvvYQbbrgBMTExGDNmDJYuXYrp06dbylkPC3z++eehUqnsHuZ7kyQJK1asQFxcHDw9PZGYmGhXJyIi6rqYXBERUZf073//G4MHD8agQYMwd+5cvPvuuxBC2JV78sknsXLlSpw8eRLDhw8HAGzYsAHu7u7YvXs30tLSAABqtRqvv/46jh8/jg0bNuC7777DkiVLAADe3t646667sH79etm1169fj//6r/+Cr6+v3fv6+PjAx8cH6enpqK+vv6x7evzxx1FUVGR5vPrqq/Dy8kJycjIAYMWKFXjvvfeQlpaG48eP47HHHsPcuXOxa9euyw8cEREpRiUc/U9FRESksPHjx+POO+/Eo48+isbGRoSHh2PTpk24/vrrAZh6rm644Qakp6djxowZltddf/31MBgMOHjwYKvX//jjjzF//nxcuHABALBv3z6MGzcOZ8+eRXh4OEpLSxEZGYlvv/0WEydOdHiNTz75BA899BDq6uowcuRITJw4EXfddZclyQNMPVebN2/GzJkzZa/96aefcMMNN2DDhg248847UV9fj6CgIHz77bdISUmxlPv973+P2tpabNy4sT3hIyIiBbDnioiIupzs7Gzs27cPc+bMAQBotVrMnj0b69atsytr7vWxNmrUKLtj3377LW688UZERkbC19cX99xzDy5evIja2loAwJgxYzB06FBs2LABAPCvf/0LMTExuO6665zW84477kBhYSE+//xzTJkyBTt37sTIkSPthjDays/Px8yZM/H444/jzjvvBACcPn0atbW1uOmmmyy9Yj4+Pnjvvffw66+/tno9IiLqGphcERFRl7Nu3To0NjYiIiICWq0WWq0Wb7/9Nj755BNUVlbKynp7e9u93vZYbm4ubrnlFgwfPhyffPIJDhw4gDfffBOAacELs9///veWxGj9+vW4//77oVKpWq2rh4cHbrrpJixbtgx79uzBfffdh+eee85p+ZqaGkyfPh0pKSlYvny55bh5/teWLVtw6NAhy+PEiROcd0VE1E0wuSIioi6lsbER7733HlatWiVLMg4fPoyIiAh88MEH7b7mgQMHIEkSVq1ahWuvvRYDBw5EYWGhXbm5c+ciLy8Pr7/+Ok6cOIF58+a1+72GDBmCmpoah+eEEJg7dy4kScI///lPWeI2ZMgQ6HQ65OfnY8CAAbJHVFRUu+tBRESdj0uxExFRl/LFF1+gvLwcDz74IPz9/WXn7rjjDqxbtw7z589v1zUHDBgAo9GItWvX4tZbb5UtdGEtMDAQt99+OxYvXozJkyejb9++Tq958eJFzJo1Cw888ACGDx8OX19fZGZm4uWXX5bNAbP2/PPP49tvv8U333yD6upqS2+Vv78/fH198fjjj+Oxxx6DJEmYMGECKisrsXv3bvj5+V1RokdERJ2LPVdERNSlrFu3DpMmTbJLrABTcpWZmYkjR46065qJiYlYvXo1XnrpJSQkJOD999/HihUrHJZ98MEH0dDQgAceeKDVa/r4+GDs2LH461//iuuuuw4JCQlYtmwZHnroIbzxxhsOX7Nr1y5UV1dj3LhxCA8Ptzw++ugjAMCLL76IZcuWYcWKFbjmmmswZcoUbNmyBXFxce26XyIiUgZXCyQiIrLyz3/+E4899hgKCws7bPNhIiLqmTgskIiICEBtbS2KioqwcuVK/M///A8TKyIiajcOCyQiIgLw8ssvY/DgwdDr9Vi6dKnS1SEiom6IwwKJiIiIiIhcgD1XRERERERELsDkioiIiIiIyAWYXBEREREREbkAkysiIiIiIiIXYHJFRERERETkAkyuiIiIiIiIXIDJFRERERERkQswuSIiIiIiInKB/weyYZzveuUOBwAAAABJRU5ErkJggg==\n",
         "text/plain": "<Figure size 1000x600 with 1 Axes>"
        },
        "metadata": {},
        "output_type": "display_data"
       }
      ]
     }
    },
    "c83d2e3ab6054a60bfbf4a7bfa9d8123": {
     "model_module": "@jupyter-widgets/base",
     "model_module_version": "1.2.0",
     "model_name": "LayoutModel",
     "state": {
      "_model_module": "@jupyter-widgets/base",
      "_model_module_version": "1.2.0",
      "_model_name": "LayoutModel",
      "_view_count": null,
      "_view_module": "@jupyter-widgets/base",
      "_view_module_version": "1.2.0",
      "_view_name": "LayoutView",
      "align_content": null,
      "align_items": null,
      "align_self": null,
      "border": null,
      "bottom": null,
      "display": null,
      "flex": null,
      "flex_flow": null,
      "grid_area": null,
      "grid_auto_columns": null,
      "grid_auto_flow": null,
      "grid_auto_rows": null,
      "grid_column": null,
      "grid_gap": null,
      "grid_row": null,
      "grid_template_areas": null,
      "grid_template_columns": null,
      "grid_template_rows": null,
      "height": null,
      "justify_content": null,
      "justify_items": null,
      "left": null,
      "margin": null,
      "max_height": null,
      "max_width": null,
      "min_height": null,
      "min_width": null,
      "object_fit": null,
      "object_position": null,
      "order": null,
      "overflow": null,
      "overflow_x": null,
      "overflow_y": null,
      "padding": null,
      "right": null,
      "top": null,
      "visibility": null,
      "width": null
     }
    }
   }
  }
 },
 "nbformat": 4,
 "nbformat_minor": 4
}
